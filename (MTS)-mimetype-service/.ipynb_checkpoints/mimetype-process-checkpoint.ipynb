{
 "cells": [
  {
   "cell_type": "code",
   "execution_count": null,
   "id": "9f1995f5",
   "metadata": {},
   "outputs": [],
   "source": [
    "import pandas as pd\n",
    "\n",
    "def process_csv(input_csv_path, output_csv_path):\n",
    "    # Read the CSV file into a pandas DataFrame\n",
    "    df = pd.read_csv(input_csv_path)\n",
    "\n",
    "    # Remove values in 'manifest' and 'mimetype' columns based on conditions\n",
    "    df.loc[(df['mimetype'] == '[]') | (df['mimetype'] == 'Run round 2'), ['manifest', 'mimetype']] = ''\n",
    "\n",
    "    # Write the modified DataFrame back to a new CSV file\n",
    "    df.to_csv(output_csv_path, index=False)\n",
    "\n",
    "# Provide the input and output file paths\n",
    "input_csv_file = 'paper_report_intent.csv'\n",
    "output_csv_file = 'processed_paper_report_intent.csv'\n",
    "\n",
    "# Process the CSV file\n",
    "process_csv(input_csv_file, output_csv_file)\n",
    "\n",
    "print(\"CSV processing completed.\")"
   ]
  }
 ],
 "metadata": {
  "kernelspec": {
   "display_name": "Python 3 (ipykernel)",
   "language": "python",
   "name": "python3"
  },
  "language_info": {
   "codemirror_mode": {
    "name": "ipython",
    "version": 3
   },
   "file_extension": ".py",
   "mimetype": "text/x-python",
   "name": "python",
   "nbconvert_exporter": "python",
   "pygments_lexer": "ipython3",
   "version": "3.9.13"
  }
 },
 "nbformat": 4,
 "nbformat_minor": 5
}

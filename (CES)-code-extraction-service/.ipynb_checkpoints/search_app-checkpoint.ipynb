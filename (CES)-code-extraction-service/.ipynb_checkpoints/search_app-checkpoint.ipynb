{
 "cells": [
  {
   "cell_type": "code",
   "execution_count": 8,
   "id": "652fa45e",
   "metadata": {},
   "outputs": [],
   "source": [
    "import pandas as pd\n",
    "\n",
    "def read_and_print_group_rows(csv_file, group, output_file_gps, output_file_no_gps):\n",
    "    # Read the CSV file into a DataFrame\n",
    "    df = pd.read_csv(csv_file)\n",
    "\n",
    "    # Filter rows where 'group' column equals 1\n",
    "    group_rows = df[df['group'] == int(group)]\n",
    "\n",
    "    # Check metadata_leak column for specific values\n",
    "    gps_keywords = ['Leak gps_latitude', 'Leak gps_longitude', 'Leak gps_altitude']\n",
    "    group_rows_gps = group_rows[group_rows['metadata_leak'].str.contains('|'.join(gps_keywords))]\n",
    "\n",
    "    # Write the filtered rows to the output CSV file for rows with GPS metadata leaks\n",
    "    group_rows_gps.to_csv(output_file_gps, index=False)\n",
    "\n",
    "    # Write the remaining filtered rows to the output CSV file for rows without GPS metadata leaks\n",
    "    group_rows_no_gps = group_rows[~group_rows['metadata_leak'].str.contains('|'.join(gps_keywords))]\n",
    "    group_rows_no_gps.to_csv(output_file_no_gps, index=False)\n",
    "\n",
    "# Usage example\n",
    "csv_file = r'.\\paper_report_intent.csv'\n",
    "group = 3\n",
    "row_gps = r'.\\group_'+str(group)+'_rows_gps.csv'\n",
    "row_no_gps = r'.\\group_'+str(group)+'_rows_no_gps.csv'\n",
    "read_and_print_group_rows(csv_file, group, row_gps, row_no_gps)\n"
   ]
  }
 ],
 "metadata": {
  "kernelspec": {
   "display_name": "Python 3 (ipykernel)",
   "language": "python",
   "name": "python3"
  },
  "language_info": {
   "codemirror_mode": {
    "name": "ipython",
    "version": 3
   },
   "file_extension": ".py",
   "mimetype": "text/x-python",
   "name": "python",
   "nbconvert_exporter": "python",
   "pygments_lexer": "ipython3",
   "version": "3.9.13"
  }
 },
 "nbformat": 4,
 "nbformat_minor": 5
}

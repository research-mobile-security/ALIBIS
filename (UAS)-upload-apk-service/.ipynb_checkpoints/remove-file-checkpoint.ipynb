{
 "cells": [
  {
   "cell_type": "code",
   "execution_count": null,
   "id": "1fb08c34",
   "metadata": {},
   "outputs": [],
   "source": [
    "import os\n",
    "\n",
    "def remove_files():\n",
    "    directory_check = r\"C:\\Users\\ASUS\\anaconda3\\metaLeak-ml-apk-upload-client\\upload_apk_no_leak_lowsize\"\n",
    "    directory_remove = r\"C:\\Users\\ASUS\\anaconda3\\metaLeak-ml-apk-upload-client\\upload_apk_no_leak\"\n",
    "    \n",
    "    # Check if the directories exist\n",
    "    if not os.path.exists(directory_check) or not os.path.exists(directory_remove):\n",
    "        print(\"One or both directories do not exist.\")\n",
    "        return\n",
    "    \n",
    "    # Get the list of files in the directory to check\n",
    "    files_to_check = os.listdir(directory_check)\n",
    "    \n",
    "    # Iterate through each file in the directory to check\n",
    "    for file_name in files_to_check:\n",
    "        file_path = os.path.join(directory_check, file_name)\n",
    "        \n",
    "        # Check if the file exists\n",
    "        if os.path.isfile(file_path):\n",
    "            print(f\"Checking existence of file: {file_path}\")\n",
    "            # Remove the file in the target directory if it exists\n",
    "            target_file_path = os.path.join(directory_remove, file_name)\n",
    "            if os.path.exists(target_file_path):\n",
    "                os.remove(target_file_path)\n",
    "                print(f\"Removed file: {target_file_path}\")\n",
    "            else:\n",
    "                print(f\"File does not exist in target directory: {target_file_path}\")\n",
    "\n",
    "# Call the function to remove files\n",
    "remove_files()\n"
   ]
  }
 ],
 "metadata": {
  "kernelspec": {
   "display_name": "Python 3 (ipykernel)",
   "language": "python",
   "name": "python3"
  },
  "language_info": {
   "codemirror_mode": {
    "name": "ipython",
    "version": 3
   },
   "file_extension": ".py",
   "mimetype": "text/x-python",
   "name": "python",
   "nbconvert_exporter": "python",
   "pygments_lexer": "ipython3",
   "version": "3.9.13"
  }
 },
 "nbformat": 4,
 "nbformat_minor": 5
}

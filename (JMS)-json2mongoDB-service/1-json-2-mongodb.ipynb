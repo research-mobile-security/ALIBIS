{
 "cells": [
  {
   "cell_type": "code",
   "execution_count": 13,
   "id": "65ac5ed1",
   "metadata": {},
   "outputs": [],
   "source": [
    "import os\n",
    "import json\n",
    "from pymongo import MongoClient"
   ]
  },
  {
   "cell_type": "code",
   "execution_count": 14,
   "id": "d418198f",
   "metadata": {},
   "outputs": [],
   "source": [
    "# Directory containing JSON files\n",
    "directory = r'C:\\Users\\ASUS\\anaconda3\\metaLeak-ml-code-search\\grouping\\group-3\\json'  "
   ]
  },
  {
   "cell_type": "code",
   "execution_count": 15,
   "id": "78fb4e62",
   "metadata": {},
   "outputs": [],
   "source": [
    "# MongoDB connection\n",
    "client = MongoClient('mongodb://localhost:27017/')\n",
    "db = client['metaLeak']  \n",
    "collection = db['jsonGroup3']  \n",
    "\n",
    "# Function to read JSON files from directory and insert into MongoDB\n",
    "def insert_json_files(directory):\n",
    "    for filename in os.listdir(directory):\n",
    "        if filename.endswith('.json'):\n",
    "            filepath = os.path.join(directory, filename)\n",
    "            with open(filepath, 'r') as file:\n",
    "                json_data = json.load(file)\n",
    "                # Insert JSON data into MongoDB\n",
    "                collection.insert_one({\"_id\": filename, \"data\": json_data})\n",
    "\n",
    "# Insert JSON files into MongoDB\n",
    "insert_json_files(directory)"
   ]
  }
 ],
 "metadata": {
  "kernelspec": {
   "display_name": "Python 3 (ipykernel)",
   "language": "python",
   "name": "python3"
  },
  "language_info": {
   "codemirror_mode": {
    "name": "ipython",
    "version": 3
   },
   "file_extension": ".py",
   "mimetype": "text/x-python",
   "name": "python",
   "nbconvert_exporter": "python",
   "pygments_lexer": "ipython3",
   "version": "3.9.13"
  }
 },
 "nbformat": 4,
 "nbformat_minor": 5
}

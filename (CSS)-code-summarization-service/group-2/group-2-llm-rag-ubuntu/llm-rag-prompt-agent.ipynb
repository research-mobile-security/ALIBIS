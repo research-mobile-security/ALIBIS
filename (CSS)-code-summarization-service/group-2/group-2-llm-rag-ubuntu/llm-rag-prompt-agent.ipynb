{
 "cells": [
  {
   "cell_type": "markdown",
   "id": "e2ddbed6-3dfa-47be-9018-e0b4526ad0bf",
   "metadata": {},
   "source": [
    "# Generative AI - Prompt Agent"
   ]
  },
  {
   "cell_type": "code",
   "execution_count": 218,
   "id": "ba52800b-9acb-4a83-94b4-d33777a293d4",
   "metadata": {},
   "outputs": [],
   "source": [
    "import os\n",
    "from dotenv import load_dotenv\n",
    "import openai\n",
    "from langchain_openai import ChatOpenAI\n",
    "# JSON loader\n",
    "from langchain_community.document_loaders import JSONLoader\n",
    "import json\n",
    "from pathlib import Path\n",
    "# Vector DB\n",
    "from langchain.text_splitter import RecursiveCharacterTextSplitter\n",
    "from langchain_openai import OpenAIEmbeddings\n",
    "from langchain_community.vectorstores import FAISS\n",
    "# prompt\n",
    "from langchain.chains.combine_documents import create_stuff_documents_chain\n",
    "from langchain.prompts import ChatPromptTemplate, MessagesPlaceholder\n",
    "from langchain.chains import create_retrieval_chain, create_history_aware_retriever\n",
    "from langchain_core.messages import HumanMessage, AIMessage\n",
    "from langchain_core.prompts import ChatPromptTemplate\n",
    "# summarization\n",
    "from langchain.prompts import PromptTemplate, ChatPromptTemplate\n",
    "from langchain.chains import LLMChain, MapReduceChain, load_summarize_chain\n",
    "from langchain.chains.combine_documents.stuff import StuffDocumentsChain\n",
    "from langchain_community.document_loaders import TextLoader"
   ]
  },
  {
   "cell_type": "markdown",
   "id": "d16b1148-c69a-4a21-9ed0-181bbd897878",
   "metadata": {},
   "source": [
    "# 1. Static variable"
   ]
  },
  {
   "cell_type": "code",
   "execution_count": 219,
   "id": "2343d3bd-e616-4441-ac8b-e6018a90f67b",
   "metadata": {},
   "outputs": [],
   "source": [
    "vectorDB_declare = \"faiss_vector_declare_index_db\"\n",
    "vectorDB_handle = \"faiss_vector_handle_index_db\"\n",
    "vectorDB_exif_keyword = \"faiss_vector_exif_keyword_index_db\"\n",
    "code_purpose_directory = \"code_purpose\"\n",
    "code_purpose_file = code_purpose_directory+\"//code_purpose.txt\""
   ]
  },
  {
   "cell_type": "markdown",
   "id": "ab37d702-8799-4c28-bd94-6476ba866c3e",
   "metadata": {},
   "source": [
    "# 2. Function"
   ]
  },
  {
   "cell_type": "code",
   "execution_count": 220,
   "id": "db4d72ee-a626-4e3c-bf21-4ebf6491afb1",
   "metadata": {},
   "outputs": [
    {
     "name": "stdout",
     "output_type": "stream",
     "text": [
      "64495\n"
     ]
    }
   ],
   "source": [
    "# Setup model\n",
    "load_dotenv()\n",
    "api_key = os.getenv('OPENAI_API_KEY')\n",
    "openai.api_key = api_key\n",
    "llm = ChatOpenAI(model=\"gpt-4-turbo\",temperature=0)\n",
    "# Setup embedding\n",
    "embeddings = OpenAIEmbeddings()\n",
    "# loading database\n",
    "db_connect = FAISS.load_local(vectorDB_declare, embeddings,allow_dangerous_deserialization=True)\n",
    "print(db_connect.index.ntotal) \n",
    "#print(db_connect.index_to_docstore_id)"
   ]
  },
  {
   "cell_type": "code",
   "execution_count": 221,
   "id": "4eb1c5b1-9bf7-4a8f-a703-d68cc55b6d26",
   "metadata": {},
   "outputs": [],
   "source": [
    "# Function create directory\n",
    "def create_directory(directory_path):\n",
    "    if not os.path.exists(directory_path):\n",
    "        os.makedirs(directory_path)\n",
    "        print(f\"Directory '{directory_path}' created successfully.\")\n",
    "    else:\n",
    "        print(f\"Directory '{directory_path}' already exists.\")\n",
    "# Funtion write string to text file\n",
    "def write_string_to_file(string, file_path):\n",
    "    with open(file_path, 'w') as file:\n",
    "        file.write(string)\n",
    "    print(f\"String written to '{file_path}' successfully.\")\n",
    "# Function delete file\n",
    "def delete_file(file_path):\n",
    "    if os.path.exists(file_path):\n",
    "        os.remove(file_path)\n",
    "        print(f\"File '{file_path}' deleted successfully.\")\n",
    "    else:\n",
    "        print(f\"File '{file_path}' does not exist.\")"
   ]
  },
  {
   "cell_type": "markdown",
   "id": "9cf27959-4fa3-4669-9fcf-d391bc5c52b7",
   "metadata": {},
   "source": [
    "# 3. Main"
   ]
  },
  {
   "cell_type": "code",
   "execution_count": 222,
   "id": "cbd9af38-4c9e-4967-9846-48faa583b5e0",
   "metadata": {},
   "outputs": [
    {
     "name": "stdout",
     "output_type": "stream",
     "text": [
      "Directory 'code_purpose' already exists.\n"
     ]
    }
   ],
   "source": [
    "# Create directory\n",
    "create_directory(code_purpose_directory)"
   ]
  },
  {
   "cell_type": "code",
   "execution_count": 223,
   "id": "5eae9b71-c025-40dd-a838-e4b69d2c7112",
   "metadata": {},
   "outputs": [
    {
     "data": {
      "text/plain": [
       "VectorStoreRetriever(tags=['FAISS', 'OpenAIEmbeddings'], vectorstore=<langchain_community.vectorstores.faiss.FAISS object at 0x7f856e884f40>)"
      ]
     },
     "execution_count": 223,
     "metadata": {},
     "output_type": "execute_result"
    }
   ],
   "source": [
    "# Create retriever\n",
    "retriever = db_connect.as_retriever()\n",
    "retriever"
   ]
  },
  {
   "cell_type": "code",
   "execution_count": 224,
   "id": "db0787f8-9021-4753-a60e-6de0de1f9f67",
   "metadata": {},
   "outputs": [
    {
     "name": "stdout",
     "output_type": "stream",
     "text": [
      "[Document(page_content='final e[] array = { new e(\"NewSubfileType\", 254, 4), new e(\"SubfileType\", 255, 4), new e(\"ImageWidth\", 256, 3, 4), new e(\"ImageLength\", 257, 3, 4), new e(\"BitsPerSample\", 258, 3), new e(\"Compression\", 259, 3), new e(\"PhotometricInterpretation\", 262, 3), new e(\"ImageDescription\", 270, 2), new e(\"Make\", 271, 2), new e(\"Model\", 272, 2), new e(\"StripOffsets\", 273, 3, 4), new e(\"Orientation\", 274, 3), new e(\"SamplesPerPixel\", 277, 3), new e(\"RowsPerStrip\", 278, 3, 4), new e(\"StripByteCounts\", 279, 3, 4), new e(\"XResolution\", 282, 5), new e(\"YResolution\", 283, 5), new e(\"PlanarConfiguration\", 284, 3), new e(\"ResolutionUnit\", 296, 3), new e(\"TransferFunction\", 301, 3), new e(\"Software\", 305, 2), new e(\"DateTime\", 306, 2), new e(\"Artist\", 315, 2), new e(\"WhitePoint\", 318, 5), new e(\"PrimaryChromaticities\", 319, 5), new e(\"SubIFDPointer\", 330, 4), new e(\"JPEGInterchangeFormat\", 513, 4), new e(\"JPEGInterchangeFormatLength\", 514, 4), new e(\"YCbCrCoefficients\", 529, 5), new e(\"YCbCrSubSampling\", 530, 3), new e(\"YCbCrPositioning\", 531, 3), new e(\"ReferenceBlackWhite\", 532, 5), new e(\"Copyright\", 33432, 2), new e(\"ExifIFDPointer\", 34665, 4), new e(\"GPSInfoIFDPointer\", 34853, 4), new e(\"SensorTopBorder\", 4, 4), new e(\"SensorLeftBorder\", 5, 4), new e(\"SensorBottomBorder\", 6, 4), new e(\"SensorRightBorder\", 7, 4), new e(\"ISO\", 23, 3), new e(\"JpgFromRaw\", 46, 7), new e(\"Xmp\", 700, 1) };', metadata={'source': '/root/metaLeak-ml-llm-rag-ubuntu/declare_code_block/Gallery-iOS-Photos-Videos-1995998.2_declare.json', 'seq_num': 118}), Document(page_content='final e[] array = { new e(\"NewSubfileType\", 254, 4), new e(\"SubfileType\", 255, 4), new e(\"ImageWidth\", 256, 3, 4), new e(\"ImageLength\", 257, 3, 4), new e(\"BitsPerSample\", 258, 3), new e(\"Compression\", 259, 3), new e(\"PhotometricInterpretation\", 262, 3), new e(\"ImageDescription\", 270, 2), new e(\"Make\", 271, 2), new e(\"Model\", 272, 2), new e(\"StripOffsets\", 273, 3, 4), new e(\"Orientation\", 274, 3), new e(\"SamplesPerPixel\", 277, 3), new e(\"RowsPerStrip\", 278, 3, 4), new e(\"StripByteCounts\", 279, 3, 4), new e(\"XResolution\", 282, 5), new e(\"YResolution\", 283, 5), new e(\"PlanarConfiguration\", 284, 3), new e(\"ResolutionUnit\", 296, 3), new e(\"TransferFunction\", 301, 3), new e(\"Software\", 305, 2), new e(\"DateTime\", 306, 2), new e(\"Artist\", 315, 2), new e(\"WhitePoint\", 318, 5), new e(\"PrimaryChromaticities\", 319, 5), new e(\"SubIFDPointer\", 330, 4), new e(\"JPEGInterchangeFormat\", 513, 4), new e(\"JPEGInterchangeFormatLength\", 514, 4), new e(\"YCbCrCoefficients\", 529, 5), new e(\"YCbCrSubSampling\", 530, 3), new e(\"YCbCrPositioning\", 531, 3), new e(\"ReferenceBlackWhite\", 532, 5), new e(\"Copyright\", 33432, 2), new e(\"ExifIFDPointer\", 34665, 4), new e(\"GPSInfoIFDPointer\", 34853, 4), new e(\"SensorTopBorder\", 4, 4), new e(\"SensorLeftBorder\", 5, 4), new e(\"SensorBottomBorder\", 6, 4), new e(\"SensorRightBorder\", 7, 4), new e(\"ISO\", 23, 3), new e(\"JpgFromRaw\", 46, 7), new e(\"Xmp\", 700, 1) };', metadata={'source': '/root/metaLeak-ml-llm-rag-ubuntu/declare_code_block/Photo-Lock-App-Hide-Pictures-92.0_declare.json', 'seq_num': 214}), Document(page_content='final e[] array = { new e(\"NewSubfileType\", 254, 4), new e(\"SubfileType\", 255, 4), new e(\"ImageWidth\", 256, 3, 4), new e(\"ImageLength\", 257, 3, 4), new e(\"BitsPerSample\", 258, 3), new e(\"Compression\", 259, 3), new e(\"PhotometricInterpretation\", 262, 3), new e(\"ImageDescription\", 270, 2), new e(\"Make\", 271, 2), new e(\"Model\", 272, 2), new e(\"StripOffsets\", 273, 3, 4), new e(\"Orientation\", 274, 3), new e(\"SamplesPerPixel\", 277, 3), new e(\"RowsPerStrip\", 278, 3, 4), new e(\"StripByteCounts\", 279, 3, 4), new e(\"XResolution\", 282, 5), new e(\"YResolution\", 283, 5), new e(\"PlanarConfiguration\", 284, 3), new e(\"ResolutionUnit\", 296, 3), new e(\"TransferFunction\", 301, 3), new e(\"Software\", 305, 2), new e(\"DateTime\", 306, 2), new e(\"Artist\", 315, 2), new e(\"WhitePoint\", 318, 5), new e(\"PrimaryChromaticities\", 319, 5), new e(\"SubIFDPointer\", 330, 4), new e(\"JPEGInterchangeFormat\", 513, 4), new e(\"JPEGInterchangeFormatLength\", 514, 4), new e(\"YCbCrCoefficients\", 529, 5), new e(\"YCbCrSubSampling\", 530, 3), new e(\"YCbCrPositioning\", 531, 3), new e(\"ReferenceBlackWhite\", 532, 5), new e(\"Copyright\", 33432, 2), new e(\"ExifIFDPointer\", 34665, 4), new e(\"GPSInfoIFDPointer\", 34853, 4), new e(\"SensorTopBorder\", 4, 4), new e(\"SensorLeftBorder\", 5, 4), new e(\"SensorBottomBorder\", 6, 4), new e(\"SensorRightBorder\", 7, 4), new e(\"ISO\", 23, 3), new e(\"JpgFromRaw\", 46, 7), new e(\"Xmp\", 700, 1) };', metadata={'source': '/root/metaLeak-ml-llm-rag-ubuntu/declare_code_block/GPS-Map-Camera-Lite-1.3.26_declare.json', 'seq_num': 197}), Document(page_content='final e[] array = { new e(\"NewSubfileType\", 254, 4), new e(\"SubfileType\", 255, 4), new e(\"ImageWidth\", 256, 3, 4), new e(\"ImageLength\", 257, 3, 4), new e(\"BitsPerSample\", 258, 3), new e(\"Compression\", 259, 3), new e(\"PhotometricInterpretation\", 262, 3), new e(\"ImageDescription\", 270, 2), new e(\"Make\", 271, 2), new e(\"Model\", 272, 2), new e(\"StripOffsets\", 273, 3, 4), new e(\"Orientation\", 274, 3), new e(\"SamplesPerPixel\", 277, 3), new e(\"RowsPerStrip\", 278, 3, 4), new e(\"StripByteCounts\", 279, 3, 4), new e(\"XResolution\", 282, 5), new e(\"YResolution\", 283, 5), new e(\"PlanarConfiguration\", 284, 3), new e(\"ResolutionUnit\", 296, 3), new e(\"TransferFunction\", 301, 3), new e(\"Software\", 305, 2), new e(\"DateTime\", 306, 2), new e(\"Artist\", 315, 2), new e(\"WhitePoint\", 318, 5), new e(\"PrimaryChromaticities\", 319, 5), new e(\"SubIFDPointer\", 330, 4), new e(\"JPEGInterchangeFormat\", 513, 4), new e(\"JPEGInterchangeFormatLength\", 514, 4), new e(\"YCbCrCoefficients\", 529, 5), new e(\"YCbCrSubSampling\", 530, 3), new e(\"YCbCrPositioning\", 531, 3), new e(\"ReferenceBlackWhite\", 532, 5), new e(\"Copyright\", 33432, 2), new e(\"ExifIFDPointer\", 34665, 4), new e(\"GPSInfoIFDPointer\", 34853, 4), new e(\"SensorTopBorder\", 4, 4), new e(\"SensorLeftBorder\", 5, 4), new e(\"SensorBottomBorder\", 6, 4), new e(\"SensorRightBorder\", 7, 4), new e(\"ISO\", 23, 3), new e(\"JpgFromRaw\", 46, 7), new e(\"Xmp\", 700, 1) };', metadata={'source': '/root/metaLeak-ml-llm-rag-ubuntu/declare_code_block/Photo-Picture-Resizer-1.0.321_declare.json', 'seq_num': 121})]\n"
     ]
    }
   ],
   "source": [
    "query = \"\"\"\n",
    "\"final e[] array = { new e(\\\"NewSubfileType\\\", 254, 4), new e(\\\"SubfileType\\\", 255, 4), new e(\\\"ImageWidth\\\", 256, 3, 4), new e(\\\"ImageLength\\\", 257, 3, 4), new e(\\\"BitsPerSample\\\", 258, 3), new e(\\\"Compression\\\", 259, 3), new e(\\\"PhotometricInterpretation\\\", 262, 3), new e(\\\"ImageDescription\\\", 270, 2), new e(\\\"Make\\\", 271, 2), new e(\\\"Model\\\", 272, 2), new e(\\\"StripOffsets\\\", 273, 3, 4), new e(\\\"Orientation\\\", 274, 3), new e(\\\"SamplesPerPixel\\\", 277, 3), new e(\\\"RowsPerStrip\\\", 278, 3, 4), new e(\\\"StripByteCounts\\\", 279, 3, 4), new e(\\\"XResolution\\\", 282, 5), new e(\\\"YResolution\\\", 283, 5), new e(\\\"PlanarConfiguration\\\", 284, 3), new e(\\\"ResolutionUnit\\\", 296, 3), new e(\\\"TransferFunction\\\", 301, 3), new e(\\\"Software\\\", 305, 2), new e(\\\"DateTime\\\", 306, 2), new e(\\\"Artist\\\", 315, 2), new e(\\\"WhitePoint\\\", 318, 5), new e(\\\"PrimaryChromaticities\\\", 319, 5), new e(\\\"SubIFDPointer\\\", 330, 4), new e(\\\"JPEGInterchangeFormat\\\", 513, 4), new e(\\\"JPEGInterchangeFormatLength\\\", 514, 4), new e(\\\"YCbCrCoefficients\\\", 529, 5), new e(\\\"YCbCrSubSampling\\\", 530, 3), new e(\\\"YCbCrPositioning\\\", 531, 3), new e(\\\"ReferenceBlackWhite\\\", 532, 5), new e(\\\"Copyright\\\", 33432, 2), new e(\\\"ExifIFDPointer\\\", 34665, 4), new e(\\\"GPSInfoIFDPointer\\\", 34853, 4), new e(\\\"SensorTopBorder\\\", 4, 4), new e(\\\"SensorLeftBorder\\\", 5, 4), new e(\\\"SensorBottomBorder\\\", 6, 4), new e(\\\"SensorRightBorder\\\", 7, 4), new e(\\\"ISO\\\", 23, 3), new e(\\\"JpgFromRaw\\\", 46, 7), new e(\\\"Xmp\\\", 700, 1) };\",\n",
    "\"\"\"\n",
    "docs = retriever.invoke(query)\n",
    "print(docs)"
   ]
  },
  {
   "cell_type": "code",
   "execution_count": 225,
   "id": "f7297ead-b92b-4776-b11d-985ca9b68791",
   "metadata": {},
   "outputs": [
    {
     "name": "stdout",
     "output_type": "stream",
     "text": [
      "input_variables=['chat_history', 'input'] input_types={'chat_history': typing.List[typing.Union[langchain_core.messages.ai.AIMessage, langchain_core.messages.human.HumanMessage, langchain_core.messages.chat.ChatMessage, langchain_core.messages.system.SystemMessage, langchain_core.messages.function.FunctionMessage, langchain_core.messages.tool.ToolMessage]]} messages=[MessagesPlaceholder(variable_name='chat_history'), HumanMessagePromptTemplate(prompt=PromptTemplate(input_variables=['input'], template='{input}')), HumanMessagePromptTemplate(prompt=PromptTemplate(input_variables=[], template='Given the above programming code block, generate a search query to look up information relevant to the conversation'))]\n"
     ]
    }
   ],
   "source": [
    "# First, we need a prompt that we can pass into an LLM to generate this search query\n",
    "prompt = ChatPromptTemplate.from_messages([\n",
    "    MessagesPlaceholder(variable_name=\"chat_history\"),\n",
    "    (\"user\",\"{input}\"),\n",
    "    (\"user\",\"Given the above programming code block, generate a search query to look up information relevant to the conversation\")\n",
    "])\n",
    "print(prompt)"
   ]
  },
  {
   "cell_type": "code",
   "execution_count": 226,
   "id": "06a07329-a044-43dc-bff2-a18681eb04d1",
   "metadata": {},
   "outputs": [],
   "source": [
    "prompt = ChatPromptTemplate.from_messages(\n",
    "    [\n",
    "        (\"placeholder\", \"{chat_history}\"),\n",
    "        (\"user\", \"{input}\"),\n",
    "        (\n",
    "            \"user\",\n",
    "            \"Given the above conversation, generate a search query to look up to get information relevant to the conversation\",\n",
    "        ),\n",
    "    ]\n",
    ")\n",
    "\n",
    "retriever_chain = create_history_aware_retriever(llm, retriever, prompt)\n",
    "\n",
    "prompt = ChatPromptTemplate.from_messages(\n",
    "    [\n",
    "        (\n",
    "            \"system\",\n",
    "            \"Answer the user's questions based on the below context:\\n\\n{context}\",\n",
    "        ),\n",
    "        (\"placeholder\", \"{chat_history}\"),\n",
    "        (\"user\", \"{input}\"),\n",
    "    ]\n",
    ")\n",
    "document_chain = create_stuff_documents_chain(llm, prompt)\n",
    "\n",
    "qa = create_retrieval_chain(retriever_chain, document_chain)"
   ]
  },
  {
   "cell_type": "code",
   "execution_count": 227,
   "id": "79be6824-908b-4d01-a606-ff6146dd65f7",
   "metadata": {},
   "outputs": [
    {
     "name": "stdout",
     "output_type": "stream",
     "text": [
      "The Exif metadata included in the code block you provided are as follows:\n",
      "\n",
      "1. **Make** - Tagged with the identifier `271` and a type of `2`, which typically represents ASCII strings. This tag stores the manufacturer of the camera that captured the image.\n",
      "\n",
      "2. **Model** - Tagged with the identifier `272` and a type of `2`. This tag stores the model number or name of the camera that captured the image.\n",
      "\n",
      "3. **Software** - Tagged with the identifier `305` and a type of `2`. This tag stores the software or firmware used to generate the image.\n",
      "\n",
      "4. **DateTime** - Tagged with the identifier `306` and a type of `2`. This tag stores the date and time when the image was created.\n",
      "\n",
      "5. **GPSInfoIFDPointer** - Tagged with the identifier `34853` and a type of `4`. This is a pointer to a specific IFD (Image File Directory) that contains GPS information related to the image. This tag itself does not store GPS data but points to where it can be found.\n",
      "\n",
      "These tags are part of the Exif (Exchangeable Image File Format) standard, which is used to store information about images and sounds captured by digital cameras.\n",
      "String written to 'code_purpose//code_purpose.txt' successfully.\n"
     ]
    }
   ],
   "source": [
    "question = f\"\"\"\n",
    "What is Exif metadata in this list (Make, Model, Software, GPS, Datetime) included in this code block below? \\n\n",
    "{docs}\n",
    "\"\"\"\n",
    "#print(question)\n",
    "result = qa.invoke({\"input\": question})\n",
    "code_purpose = result[\"answer\"]\n",
    "print(code_purpose)\n",
    "#print(type(code_purpose))\n",
    "write_string_to_file(code_purpose, code_purpose_file)"
   ]
  },
  {
   "cell_type": "code",
   "execution_count": 228,
   "id": "02947ec9-3ff8-41ea-80f2-c89949971aeb",
   "metadata": {},
   "outputs": [
    {
     "name": "stdout",
     "output_type": "stream",
     "text": [
      "\n",
      "You are provided with a paragraph listing the types of EXIF metadata in the code block.\n",
      "----------\n",
      "{text}\n",
      "----------\n",
      "Question: Examine the paragraph and summarize which types of EXIF metadata the above paragraph relates to in the inclusion list (Make, Model, Software, GPS, Datetime) if EXIF metadata exists. \n",
      "Please only respond with the EXIF metadata name in this list (Make, Model, Software, GPS, Datetime).\n",
      "EXIF metadata name:\n",
      "\n"
     ]
    }
   ],
   "source": [
    "# Summary\n",
    "prompt_template = \"\"\"\n",
    "You are provided with a paragraph listing the types of EXIF metadata in the code block.\n",
    "----------\n",
    "{text}\n",
    "----------\n",
    "Question: Examine the paragraph and summarize which types of EXIF metadata the above paragraph relates to in the inclusion list (Make, Model, Software, GPS, Datetime) if EXIF metadata exists. \n",
    "Please only respond with the EXIF metadata name in this list (Make, Model, Software, GPS, Datetime).\n",
    "EXIF metadata name:\n",
    "\"\"\"\n",
    "print(prompt_template)"
   ]
  },
  {
   "cell_type": "code",
   "execution_count": 229,
   "id": "bd0ffdda-4490-49e9-bf89-ada847d719c2",
   "metadata": {},
   "outputs": [
    {
     "data": {
      "text/plain": [
       "PromptTemplate(input_variables=['text'], template='\\nYou are provided with a paragraph listing the types of EXIF metadata in the code block.\\n----------\\n{text}\\n----------\\nQuestion: Examine the paragraph and summarize which types of EXIF metadata the above paragraph relates to in the inclusion list (Make, Model, Software, GPS, Datetime) if EXIF metadata exists. \\nPlease only respond with the EXIF metadata name in this list (Make, Model, Software, GPS, Datetime).\\nEXIF metadata name:\\n')"
      ]
     },
     "execution_count": 229,
     "metadata": {},
     "output_type": "execute_result"
    }
   ],
   "source": [
    "prompt = PromptTemplate.from_template(prompt_template)\n",
    "prompt"
   ]
  },
  {
   "cell_type": "code",
   "execution_count": 230,
   "id": "bd6a3e99-46a3-4367-ad54-9e7e32af77a6",
   "metadata": {},
   "outputs": [
    {
     "name": "stdout",
     "output_type": "stream",
     "text": [
      "\n",
      "You are provided with a paragraph listing the types of EXIF metadata in the code block.\n",
      "----------\n",
      "{text}\n",
      "----------\n",
      "Question: Examine the paragraph and summarize which types of EXIF metadata the above paragraph relates to in the inclusion list (Make, Model, Software, GPS, Datetime) if EXIF metadata exists. \n",
      "Please only respond with the EXIF metadata name in this list (Make, Model, Software, GPS, Datetime).\n",
      "EXIF metadata name:\n",
      "\n"
     ]
    }
   ],
   "source": [
    "prompt = PromptTemplate(template=prompt_template,input_variables=[\"text\"])\n",
    "stuff_chain = load_summarize_chain(llm,\n",
    "                                   chain_type=\"stuff\",\n",
    "                                   prompt=prompt,\n",
    "                                   verbose = True\n",
    "                                  )\n",
    "print(stuff_chain.llm_chain.prompt.template)"
   ]
  },
  {
   "cell_type": "code",
   "execution_count": 231,
   "id": "16e83cb2-099b-491c-9f86-5d5017584f74",
   "metadata": {},
   "outputs": [
    {
     "name": "stdout",
     "output_type": "stream",
     "text": [
      "[Document(page_content='The Exif metadata included in the code block you provided are as follows:\\n\\n1. **Make** - Tagged with the identifier `271` and a type of `2`, which typically represents ASCII strings. This tag stores the manufacturer of the camera that captured the image.\\n\\n2. **Model** - Tagged with the identifier `272` and a type of `2`. This tag stores the model number or name of the camera that captured the image.\\n\\n3. **Software** - Tagged with the identifier `305` and a type of `2`. This tag stores the software or firmware used to generate the image.\\n\\n4. **DateTime** - Tagged with the identifier `306` and a type of `2`. This tag stores the date and time when the image was created.\\n\\n5. **GPSInfoIFDPointer** - Tagged with the identifier `34853` and a type of `4`. This is a pointer to a specific IFD (Image File Directory) that contains GPS information related to the image. This tag itself does not store GPS data but points to where it can be found.\\n\\nThese tags are part of the Exif (Exchangeable Image File Format) standard, which is used to store information about images and sounds captured by digital cameras.', metadata={'source': 'code_purpose//code_purpose.txt'})]\n",
      "\n",
      "\n",
      "\u001b[1m> Entering new StuffDocumentsChain chain...\u001b[0m\n",
      "\n",
      "\n",
      "\u001b[1m> Entering new LLMChain chain...\u001b[0m\n",
      "Prompt after formatting:\n",
      "\u001b[32;1m\u001b[1;3m\n",
      "You are provided with a paragraph listing the types of EXIF metadata in the code block.\n",
      "----------\n",
      "The Exif metadata included in the code block you provided are as follows:\n",
      "\n",
      "1. **Make** - Tagged with the identifier `271` and a type of `2`, which typically represents ASCII strings. This tag stores the manufacturer of the camera that captured the image.\n",
      "\n",
      "2. **Model** - Tagged with the identifier `272` and a type of `2`. This tag stores the model number or name of the camera that captured the image.\n",
      "\n",
      "3. **Software** - Tagged with the identifier `305` and a type of `2`. This tag stores the software or firmware used to generate the image.\n",
      "\n",
      "4. **DateTime** - Tagged with the identifier `306` and a type of `2`. This tag stores the date and time when the image was created.\n",
      "\n",
      "5. **GPSInfoIFDPointer** - Tagged with the identifier `34853` and a type of `4`. This is a pointer to a specific IFD (Image File Directory) that contains GPS information related to the image. This tag itself does not store GPS data but points to where it can be found.\n",
      "\n",
      "These tags are part of the Exif (Exchangeable Image File Format) standard, which is used to store information about images and sounds captured by digital cameras.\n",
      "----------\n",
      "Question: Examine the paragraph and summarize which types of EXIF metadata the above paragraph relates to in the inclusion list (Make, Model, Software, GPS, Datetime) if EXIF metadata exists. \n",
      "Please only respond with the EXIF metadata name in this list (Make, Model, Software, GPS, Datetime).\n",
      "EXIF metadata name:\n",
      "\u001b[0m\n",
      "\n",
      "\u001b[1m> Finished chain.\u001b[0m\n",
      "\n",
      "\u001b[1m> Finished chain.\u001b[0m\n"
     ]
    },
    {
     "data": {
      "text/plain": [
       "{'input_documents': [Document(page_content='The Exif metadata included in the code block you provided are as follows:\\n\\n1. **Make** - Tagged with the identifier `271` and a type of `2`, which typically represents ASCII strings. This tag stores the manufacturer of the camera that captured the image.\\n\\n2. **Model** - Tagged with the identifier `272` and a type of `2`. This tag stores the model number or name of the camera that captured the image.\\n\\n3. **Software** - Tagged with the identifier `305` and a type of `2`. This tag stores the software or firmware used to generate the image.\\n\\n4. **DateTime** - Tagged with the identifier `306` and a type of `2`. This tag stores the date and time when the image was created.\\n\\n5. **GPSInfoIFDPointer** - Tagged with the identifier `34853` and a type of `4`. This is a pointer to a specific IFD (Image File Directory) that contains GPS information related to the image. This tag itself does not store GPS data but points to where it can be found.\\n\\nThese tags are part of the Exif (Exchangeable Image File Format) standard, which is used to store information about images and sounds captured by digital cameras.', metadata={'source': 'code_purpose//code_purpose.txt'})],\n",
       " 'output_text': 'Make, Model, Software, GPS, Datetime'}"
      ]
     },
     "execution_count": 231,
     "metadata": {},
     "output_type": "execute_result"
    }
   ],
   "source": [
    "loader = TextLoader(code_purpose_file)\n",
    "code_purpose_docs = loader.load()\n",
    "print(code_purpose_docs)\n",
    "output_summary = stuff_chain.invoke(code_purpose_docs)\n",
    "output_summary"
   ]
  },
  {
   "cell_type": "code",
   "execution_count": 232,
   "id": "f753d4c5-1ec0-49a6-9782-776d86f7ea49",
   "metadata": {},
   "outputs": [
    {
     "name": "stdout",
     "output_type": "stream",
     "text": [
      "File 'code_purpose//code_purpose.txt' deleted successfully.\n"
     ]
    }
   ],
   "source": [
    "delete_file(code_purpose_file)"
   ]
  }
 ],
 "metadata": {
  "kernelspec": {
   "display_name": "Python 3 (ipykernel)",
   "language": "python",
   "name": "python3"
  },
  "language_info": {
   "codemirror_mode": {
    "name": "ipython",
    "version": 3
   },
   "file_extension": ".py",
   "mimetype": "text/x-python",
   "name": "python",
   "nbconvert_exporter": "python",
   "pygments_lexer": "ipython3",
   "version": "3.10.14"
  }
 },
 "nbformat": 4,
 "nbformat_minor": 5
}

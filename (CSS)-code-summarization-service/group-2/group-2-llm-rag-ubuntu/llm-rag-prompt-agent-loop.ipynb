{
 "cells": [
  {
   "cell_type": "markdown",
   "id": "e2ddbed6-3dfa-47be-9018-e0b4526ad0bf",
   "metadata": {},
   "source": [
    "# Generative AI - Prompt Agent - Loop"
   ]
  },
  {
   "cell_type": "code",
   "execution_count": 1,
   "id": "ba52800b-9acb-4a83-94b4-d33777a293d4",
   "metadata": {},
   "outputs": [],
   "source": [
    "import os\n",
    "from dotenv import load_dotenv\n",
    "import openai\n",
    "from langchain_openai import ChatOpenAI\n",
    "# JSON loader\n",
    "from langchain_community.document_loaders import JSONLoader\n",
    "import json\n",
    "from pathlib import Path\n",
    "# Vector DB\n",
    "from langchain.text_splitter import RecursiveCharacterTextSplitter\n",
    "from langchain_openai import OpenAIEmbeddings\n",
    "from langchain_community.vectorstores import FAISS\n",
    "# prompt\n",
    "from langchain.chains.combine_documents import create_stuff_documents_chain\n",
    "from langchain.prompts import ChatPromptTemplate, MessagesPlaceholder\n",
    "from langchain.chains import create_retrieval_chain, create_history_aware_retriever\n",
    "from langchain_core.messages import HumanMessage, AIMessage\n",
    "from langchain_core.prompts import ChatPromptTemplate\n",
    "# summarization\n",
    "from langchain.prompts import PromptTemplate, ChatPromptTemplate\n",
    "from langchain.chains import LLMChain, MapReduceChain, load_summarize_chain\n",
    "from langchain.chains.combine_documents.stuff import StuffDocumentsChain\n",
    "from langchain_community.document_loaders import TextLoader"
   ]
  },
  {
   "cell_type": "markdown",
   "id": "d16b1148-c69a-4a21-9ed0-181bbd897878",
   "metadata": {},
   "source": [
    "# 1. Static variable"
   ]
  },
  {
   "cell_type": "code",
   "execution_count": 2,
   "id": "2343d3bd-e616-4441-ac8b-e6018a90f67b",
   "metadata": {},
   "outputs": [],
   "source": [
    "vectorDB_declare = \"faiss_vector_declare_index_db\"\n",
    "vectorDB_handle = \"faiss_vector_handle_index_db\"\n",
    "vectorDB_exif_keyword = \"faiss_vector_exif_keyword_index_db\"\n",
    "code_purpose_directory = \"code_purpose\"\n",
    "code_purpose_file = code_purpose_directory+\"//code_purpose.txt\"\n",
    "declare_code_block_path = \"./declare_code_block\""
   ]
  },
  {
   "cell_type": "code",
   "execution_count": 3,
   "id": "9e9559e7-e41b-4f10-848d-244b0e75e869",
   "metadata": {},
   "outputs": [],
   "source": [
    "class LLMAnswer:\n",
    "    def __init__(self, app_name, answer, similar_app):\n",
    "        self.app_name = app_name\n",
    "        self.answer = answer\n",
    "        self.similar_app = similar_app\n",
    "    \n",
    "    def to_json(self):\n",
    "        return json.dumps(self.__dict__, indent=4)"
   ]
  },
  {
   "cell_type": "markdown",
   "id": "ab37d702-8799-4c28-bd94-6476ba866c3e",
   "metadata": {},
   "source": [
    "# 2. Function"
   ]
  },
  {
   "cell_type": "code",
   "execution_count": 4,
   "id": "db4d72ee-a626-4e3c-bf21-4ebf6491afb1",
   "metadata": {},
   "outputs": [
    {
     "name": "stdout",
     "output_type": "stream",
     "text": [
      "64495\n"
     ]
    }
   ],
   "source": [
    "# Setup model\n",
    "load_dotenv()\n",
    "api_key = os.getenv('OPENAI_API_KEY')\n",
    "openai.api_key = api_key\n",
    "llm = ChatOpenAI(model=\"gpt-4-turbo\",temperature=0)\n",
    "# Setup embedding\n",
    "embeddings = OpenAIEmbeddings()\n",
    "# loading database\n",
    "db_connect = FAISS.load_local(vectorDB_declare, embeddings,allow_dangerous_deserialization=True)\n",
    "print(db_connect.index.ntotal) \n",
    "#print(db_connect.index_to_docstore_id)"
   ]
  },
  {
   "cell_type": "code",
   "execution_count": 5,
   "id": "4eb1c5b1-9bf7-4a8f-a703-d68cc55b6d26",
   "metadata": {},
   "outputs": [],
   "source": [
    "# Function create directory\n",
    "def create_directory(directory_path):\n",
    "    if not os.path.exists(directory_path):\n",
    "        os.makedirs(directory_path)\n",
    "        print(f\"Directory '{directory_path}' created successfully.\")\n",
    "    else:\n",
    "        print(f\"Directory '{directory_path}' already exists.\")\n",
    "# Funtion write string to text file\n",
    "def write_string_to_file(string, file_path):\n",
    "    with open(file_path, 'w') as file:\n",
    "        file.write(string)\n",
    "    print(f\"String written to '{file_path}' successfully.\")\n",
    "# Function delete file\n",
    "def delete_file(file_path):\n",
    "    if os.path.exists(file_path):\n",
    "        os.remove(file_path)\n",
    "        print(f\"File '{file_path}' deleted successfully.\")\n",
    "    else:\n",
    "        print(f\"File '{file_path}' does not exist.\")\n",
    "# Function list all file in directory to list\n",
    "def list_files_in_directory(directory_path):\n",
    "    file_list = os.listdir(directory_path)\n",
    "    file_list = [file for file in file_list if os.path.isfile(os.path.join(directory_path, file))]\n",
    "    return file_list\n",
    "# Function load JSON\n",
    "def load_json_data(file_path,json_root):\n",
    "    # Define the JSONLoader with the appropriate parameters\n",
    "    loader = JSONLoader(\n",
    "        file_path=file_path,\n",
    "        jq_schema=\".\"+json_root+\"[]\",\n",
    "        text_content=False\n",
    "    )\n",
    "    # Load the JSON data\n",
    "    data = loader.load()\n",
    "    return data\n",
    "# Function get sub-string in string\n",
    "def get_sub_string(input_string, delimiter='/'):\n",
    "    parts = input_string.split(delimiter)\n",
    "    filename = parts[-1]\n",
    "    filename_without_extension = filename.split('.')[0]\n",
    "    return filename_without_extension"
   ]
  },
  {
   "cell_type": "markdown",
   "id": "9cf27959-4fa3-4669-9fcf-d391bc5c52b7",
   "metadata": {},
   "source": [
    "# 3. Main"
   ]
  },
  {
   "cell_type": "code",
   "execution_count": 6,
   "id": "cbd9af38-4c9e-4967-9846-48faa583b5e0",
   "metadata": {},
   "outputs": [
    {
     "name": "stdout",
     "output_type": "stream",
     "text": [
      "Directory 'code_purpose' already exists.\n"
     ]
    }
   ],
   "source": [
    "# Create directory\n",
    "create_directory(code_purpose_directory)"
   ]
  },
  {
   "cell_type": "code",
   "execution_count": 7,
   "id": "5eae9b71-c025-40dd-a838-e4b69d2c7112",
   "metadata": {},
   "outputs": [
    {
     "data": {
      "text/plain": [
       "VectorStoreRetriever(tags=['FAISS', 'OpenAIEmbeddings'], vectorstore=<langchain_community.vectorstores.faiss.FAISS object at 0x784badde78e0>)"
      ]
     },
     "execution_count": 7,
     "metadata": {},
     "output_type": "execute_result"
    }
   ],
   "source": [
    "# Create retriever\n",
    "retriever = db_connect.as_retriever()\n",
    "retriever"
   ]
  },
  {
   "cell_type": "code",
   "execution_count": 8,
   "id": "40059509-5f6b-4e97-93d1-90d6b8ad2172",
   "metadata": {},
   "outputs": [],
   "source": [
    "# List all files\n",
    "declare_code_files = list_files_in_directory(declare_code_block_path)"
   ]
  },
  {
   "cell_type": "code",
   "execution_count": 9,
   "id": "6ce28a88-3c28-47df-b938-a2b2da0f7075",
   "metadata": {},
   "outputs": [
    {
     "name": "stdout",
     "output_type": "stream",
     "text": [
      "File name :./declare_code_block/Gallery-Photo-Gallery-App-1.0_declare.json\n",
      "/root/metaLeak-ml-llm-rag-ubuntu/declare_code_block/Gallery-Photo-Gallery-App-1.0_declare.json\n",
      "Gallery-Photo-Gallery-App-1\n",
      "******************** Document page_content no-0 ********************\n",
      "page_content='public static final int[] q;' metadata={'source': '/root/metaLeak-ml-llm-rag-ubuntu/declare_code_block/Gallery-Photo-Gallery-App-1.0_declare.json', 'seq_num': 1}\n",
      "******************** Document page_content no-1 ********************\n",
      "page_content='final int[] a2 = (Object)c.h(this.g);' metadata={'source': '/root/metaLeak-ml-llm-rag-ubuntu/declare_code_block/Gallery-Photo-Gallery-App-1.0_declare.json', 'seq_num': 2}\n",
      "******************** Document page_content no-2 ********************\n",
      "page_content='final byte[] b = new byte[int2];' metadata={'source': '/root/metaLeak-ml-llm-rag-ubuntu/declare_code_block/Gallery-Photo-Gallery-App-1.0_declare.json', 'seq_num': 3}\n",
      "******************** Document page_content no-3 ********************\n",
      "page_content='q = new int[] { 8 };' metadata={'source': '/root/metaLeak-ml-llm-rag-ubuntu/declare_code_block/Gallery-Photo-Gallery-App-1.0_declare.json', 'seq_num': 4}\n",
      "******************** Document page_content no-4 ********************\n",
      "page_content='final byte[] c = e1.a.C;' metadata={'source': '/root/metaLeak-ml-llm-rag-ubuntu/declare_code_block/Gallery-Photo-Gallery-App-1.0_declare.json', 'seq_num': 5}\n",
      "******************** Document page_content no-5 ********************\n",
      "page_content='s = new byte[] { 102, 116, 121, 112 };' metadata={'source': '/root/metaLeak-ml-llm-rag-ubuntu/declare_code_block/Gallery-Photo-Gallery-App-1.0_declare.json', 'seq_num': 6}\n",
      "******************** Document page_content no-6 ********************\n",
      "page_content='final int[] p = e1.a.p;' metadata={'source': '/root/metaLeak-ml-llm-rag-ubuntu/declare_code_block/Gallery-Photo-Gallery-App-1.0_declare.json', 'seq_num': 7}\n",
      "******************** Document page_content no-7 ********************\n",
      "page_content='I = new d[][] { array, { d, d2, d3, d4, d5, d6, d7, d8, d9, d10, d11, d12, d13, d14, d15, d16, d17, d18, d19, d20, d21, d22, d23, d24, d25, d26, d27, d28, d29, d30, d31, d32, d33, d34, d35, d36, d37, d38, d39, d40, d41, d42, d43, d44, d45, d46, d47, d48, d49, d50, d51, d52, d53, d54, d55, d56, d57, d58, d59, d60, d61, d62, d63, d64, d65, d66, d67, d68, d69, d70, d71, d72, d73, d74 }, { d75, d76, d77, d78, d79, d80, d81, d82, d83, d84, d85, d86, d87, d88, d89, d90, d91, d92, d93, d94, d95, d96, d97, d98, d99, d100, d101, d102, d103, d104, d105, d106 }, { d107 }, { d108, d109, d110, d111, d112, d113, d114, d115, d116, d117, d118, d119, d120, d121, d122, d123, d124, d125, d126, d127, d128, d129, d130, d131, d132, d133, d134, d135, d136, d137, d138, d139, d140, d141, d142, d143, d144, d145 }, array, { new d(\"ThumbnailImage\", 256, 7), new d(\"CameraSettingsIFDPointer\", 8224, 4), new d(\"ImageProcessingIFDPointer\", 8256, 4) }, { new d(\"PreviewImageStart\", 257, 4), new d(\"PreviewImageLength\", 258, 4) }, { new d(\"AspectFrame\", 4371, 3) }, { new d(\"ColorSpace\", 55, 3) } };' metadata={'source': '/root/metaLeak-ml-llm-rag-ubuntu/declare_code_block/Gallery-Photo-Gallery-App-1.0_declare.json', 'seq_num': 8}\n",
      "******************** Document page_content no-8 ********************\n",
      "page_content='public static final byte[] z;' metadata={'source': '/root/metaLeak-ml-llm-rag-ubuntu/declare_code_block/Gallery-Photo-Gallery-App-1.0_declare.json', 'seq_num': 9}\n",
      "******************** Document page_content no-9 ********************\n",
      "page_content='final byte[] b5 = new byte[n5];' metadata={'source': '/root/metaLeak-ml-llm-rag-ubuntu/declare_code_block/Gallery-Photo-Gallery-App-1.0_declare.json', 'seq_num': 10}\n",
      "******************** Document page_content no-10 ********************\n",
      "page_content='E = new String[] { \"\", \"BYTE\", \"STRING\", \"USHORT\", \"ULONG\", \"URATIONAL\", \"SBYTE\", \"UNDEFINED\", \"SSHORT\", \"SLONG\", \"SRATIONAL\", \"SINGLE\", \"DOUBLE\", \"IFD\" };' metadata={'source': '/root/metaLeak-ml-llm-rag-ubuntu/declare_code_block/Gallery-Photo-Gallery-App-1.0_declare.json', 'seq_num': 11}\n",
      "******************** Document page_content no-11 ********************\n",
      "page_content='final int[] a3 = (Object)c2.h(this.g);' metadata={'source': '/root/metaLeak-ml-llm-rag-ubuntu/declare_code_block/Gallery-Photo-Gallery-App-1.0_declare.json', 'seq_num': 12}\n",
      "******************** Document page_content no-12 ********************\n",
      "page_content='w = new byte[] { 79, 76, 89, 77, 80, 85, 83, 0, 73, 73 };' metadata={'source': '/root/metaLeak-ml-llm-rag-ubuntu/declare_code_block/Gallery-Photo-Gallery-App-1.0_declare.json', 'seq_num': 13}\n",
      "******************** Document page_content no-13 ********************\n",
      "page_content='public static final boolean m;' metadata={'source': '/root/metaLeak-ml-llm-rag-ubuntu/declare_code_block/Gallery-Photo-Gallery-App-1.0_declare.json', 'seq_num': 14}\n",
      "******************** Document page_content no-14 ********************\n",
      "page_content='final byte[] a = new byte[v.length];' metadata={'source': '/root/metaLeak-ml-llm-rag-ubuntu/declare_code_block/Gallery-Photo-Gallery-App-1.0_declare.json', 'seq_num': 15}\n",
      "******************** Document page_content no-15 ********************\n",
      "page_content='public final byte[] d;' metadata={'source': '/root/metaLeak-ml-llm-rag-ubuntu/declare_code_block/Gallery-Photo-Gallery-App-1.0_declare.json', 'seq_num': 16}\n",
      "******************** Document page_content no-16 ********************\n",
      "page_content='F = new int[] { 0, 1, 1, 2, 4, 8, 1, 1, 2, 4, 8, 4, 8, 1 };' metadata={'source': '/root/metaLeak-ml-llm-rag-ubuntu/declare_code_block/Gallery-Photo-Gallery-App-1.0_declare.json', 'seq_num': 17}\n",
      "******************** Document page_content no-17 ********************\n",
      "page_content='final d[][] i = a.I;' metadata={'source': '/root/metaLeak-ml-llm-rag-ubuntu/declare_code_block/Gallery-Photo-Gallery-App-1.0_declare.json', 'seq_num': 18}\n",
      "******************** Document page_content no-18 ********************\n",
      "page_content='final byte[] array = new byte[(int)n5];' metadata={'source': '/root/metaLeak-ml-llm-rag-ubuntu/declare_code_block/Gallery-Photo-Gallery-App-1.0_declare.json', 'seq_num': 19}\n",
      "******************** Document page_content no-19 ********************\n",
      "page_content='y = new byte[] { 101, 88, 73, 102 };' metadata={'source': '/root/metaLeak-ml-llm-rag-ubuntu/declare_code_block/Gallery-Photo-Gallery-App-1.0_declare.json', 'seq_num': 20}\n",
      "******************** Document page_content no-20 ********************\n",
      "page_content='J = new d[] { new d(\"SubIFDPointer\", 330, 4), new d(\"ExifIFDPointer\", 34665, 4), new d(\"GPSInfoIFDPointer\", 34853, 4), new d(\"InteroperabilityIFDPointer\", 40965, 4), new d(\"CameraSettingsIFDPointer\", 8224, 1), new d(\"ImageProcessingIFDPointer\", 8256, 1) };' metadata={'source': '/root/metaLeak-ml-llm-rag-ubuntu/declare_code_block/Gallery-Photo-Gallery-App-1.0_declare.json', 'seq_num': 21}\n",
      "******************** Document page_content no-21 ********************\n",
      "page_content='public static final Charset O;' metadata={'source': '/root/metaLeak-ml-llm-rag-ubuntu/declare_code_block/Gallery-Photo-Gallery-App-1.0_declare.json', 'seq_num': 22}\n",
      "******************** Document page_content no-22 ********************\n",
      "page_content='final byte[] r = e1.a.r;' metadata={'source': '/root/metaLeak-ml-llm-rag-ubuntu/declare_code_block/Gallery-Photo-Gallery-App-1.0_declare.json', 'seq_num': 23}\n",
      "******************** Document page_content no-23 ********************\n",
      "page_content='B = new byte[] { 82, 73, 70, 70 };' metadata={'source': '/root/metaLeak-ml-llm-rag-ubuntu/declare_code_block/Gallery-Photo-Gallery-App-1.0_declare.json', 'seq_num': 24}\n",
      "******************** Document page_content no-24 ********************\n",
      "page_content='final byte[] array = new byte[(int)n];' metadata={'source': '/root/metaLeak-ml-llm-rag-ubuntu/declare_code_block/Gallery-Photo-Gallery-App-1.0_declare.json', 'seq_num': 25}\n",
      "******************** Document page_content no-25 ********************\n",
      "page_content='public static final byte[] y;' metadata={'source': '/root/metaLeak-ml-llm-rag-ubuntu/declare_code_block/Gallery-Photo-Gallery-App-1.0_declare.json', 'seq_num': 26}\n",
      "******************** Document page_content no-26 ********************\n",
      "page_content='final int[] array2 = (Object)h;' metadata={'source': '/root/metaLeak-ml-llm-rag-ubuntu/declare_code_block/Gallery-Photo-Gallery-App-1.0_declare.json', 'seq_num': 27}\n",
      "******************** Document page_content no-27 ********************\n",
      "page_content='final byte[] b2 = new byte[f2];' metadata={'source': '/root/metaLeak-ml-llm-rag-ubuntu/declare_code_block/Gallery-Photo-Gallery-App-1.0_declare.json', 'seq_num': 28}\n",
      "******************** Document page_content no-28 ********************\n",
      "page_content='final byte[] a = new byte[4];' metadata={'source': '/root/metaLeak-ml-llm-rag-ubuntu/declare_code_block/Gallery-Photo-Gallery-App-1.0_declare.json', 'seq_num': 29}\n",
      "******************** Document page_content no-29 ********************\n",
      "page_content='final d[] k = a.J;' metadata={'source': '/root/metaLeak-ml-llm-rag-ubuntu/declare_code_block/Gallery-Photo-Gallery-App-1.0_declare.json', 'seq_num': 30}\n",
      "******************** Document page_content no-30 ********************\n",
      "page_content='public static final byte[] w;' metadata={'source': '/root/metaLeak-ml-llm-rag-ubuntu/declare_code_block/Gallery-Photo-Gallery-App-1.0_declare.json', 'seq_num': 31}\n",
      "******************** Document page_content no-31 ********************\n",
      "page_content='final byte[] q = e1.a.Q;' metadata={'source': '/root/metaLeak-ml-llm-rag-ubuntu/declare_code_block/Gallery-Photo-Gallery-App-1.0_declare.json', 'seq_num': 32}\n",
      "******************** Document page_content no-32 ********************\n",
      "page_content='final byte[] b = new byte[5000];' metadata={'source': '/root/metaLeak-ml-llm-rag-ubuntu/declare_code_block/Gallery-Photo-Gallery-App-1.0_declare.json', 'seq_num': 33}\n",
      "******************** Document page_content no-33 ********************\n",
      "page_content='if (h instanceof int[]) {' metadata={'source': '/root/metaLeak-ml-llm-rag-ubuntu/declare_code_block/Gallery-Photo-Gallery-App-1.0_declare.json', 'seq_num': 34}\n",
      "******************** Document page_content no-34 ********************\n",
      "page_content='v = new byte[] { 79, 76, 89, 77, 80, 0 };' metadata={'source': '/root/metaLeak-ml-llm-rag-ubuntu/declare_code_block/Gallery-Photo-Gallery-App-1.0_declare.json', 'seq_num': 35}\n",
      "******************** Document page_content no-35 ********************\n",
      "page_content='final byte[] p3 = e1.a.P;' metadata={'source': '/root/metaLeak-ml-llm-rag-ubuntu/declare_code_block/Gallery-Photo-Gallery-App-1.0_declare.json', 'seq_num': 36}\n",
      "******************** Document page_content no-36 ********************\n",
      "page_content='public static final HashMap<String, d>[] L;' metadata={'source': '/root/metaLeak-ml-llm-rag-ubuntu/declare_code_block/Gallery-Photo-Gallery-App-1.0_declare.json', 'seq_num': 37}\n",
      "******************** Document page_content no-37 ********************\n",
      "page_content='public static final byte[] P;' metadata={'source': '/root/metaLeak-ml-llm-rag-ubuntu/declare_code_block/Gallery-Photo-Gallery-App-1.0_declare.json', 'seq_num': 38}\n",
      "******************** Document page_content no-38 ********************\n",
      "page_content='final byte[] copyOfRange = Arrays.copyOfRange(array2, p3.length, n5);' metadata={'source': '/root/metaLeak-ml-llm-rag-ubuntu/declare_code_block/Gallery-Photo-Gallery-App-1.0_declare.json', 'seq_num': 39}\n",
      "******************** Document page_content no-39 ********************\n",
      "page_content='for (e[] array4 = (Object)h; i < array4.length; i = n7) {' metadata={'source': '/root/metaLeak-ml-llm-rag-ubuntu/declare_code_block/Gallery-Photo-Gallery-App-1.0_declare.json', 'seq_num': 40}\n",
      "******************** Document page_content no-40 ********************\n",
      "page_content='final byte[] copyOfRange2 = Arrays.copyOfRange(array2, q.length, n5);' metadata={'source': '/root/metaLeak-ml-llm-rag-ubuntu/declare_code_block/Gallery-Photo-Gallery-App-1.0_declare.json', 'seq_num': 41}\n",
      "******************** Document page_content no-41 ********************\n",
      "page_content='public c(final long c, final byte[] d, final int a, final int b) {' metadata={'source': '/root/metaLeak-ml-llm-rag-ubuntu/declare_code_block/Gallery-Photo-Gallery-App-1.0_declare.json', 'seq_num': 42}\n",
      "******************** Document page_content no-42 ********************\n",
      "page_content='p = new int[] { 8, 8, 8 };' metadata={'source': '/root/metaLeak-ml-llm-rag-ubuntu/declare_code_block/Gallery-Photo-Gallery-App-1.0_declare.json', 'seq_num': 43}\n",
      "******************** Document page_content no-43 ********************\n",
      "page_content='final byte[] array = new byte[4];' metadata={'source': '/root/metaLeak-ml-llm-rag-ubuntu/declare_code_block/Gallery-Photo-Gallery-App-1.0_declare.json', 'seq_num': 44}\n",
      "******************** Document page_content no-44 ********************\n",
      "page_content='final byte[] b = new byte[f7];' metadata={'source': '/root/metaLeak-ml-llm-rag-ubuntu/declare_code_block/Gallery-Photo-Gallery-App-1.0_declare.json', 'seq_num': 45}\n",
      "******************** Document page_content no-45 ********************\n",
      "page_content='public final void readFully(final byte[] b, final int off, final int len) {' metadata={'source': '/root/metaLeak-ml-llm-rag-ubuntu/declare_code_block/Gallery-Photo-Gallery-App-1.0_declare.json', 'seq_num': 46}\n",
      "******************** Document page_content no-46 ********************\n",
      "page_content='public static final byte[] D;' metadata={'source': '/root/metaLeak-ml-llm-rag-ubuntu/declare_code_block/Gallery-Photo-Gallery-App-1.0_declare.json', 'seq_num': 47}\n",
      "******************** Document page_content no-47 ********************\n",
      "page_content='e = (new e[] { e })[0];' metadata={'source': '/root/metaLeak-ml-llm-rag-ubuntu/declare_code_block/Gallery-Photo-Gallery-App-1.0_declare.json', 'seq_num': 48}\n",
      "******************** Document page_content no-48 ********************\n",
      "page_content='final double[] array3 = (Object)h;' metadata={'source': '/root/metaLeak-ml-llm-rag-ubuntu/declare_code_block/Gallery-Photo-Gallery-App-1.0_declare.json', 'seq_num': 49}\n",
      "******************** Document page_content no-49 ********************\n",
      "page_content='public static final byte[] x;' metadata={'source': '/root/metaLeak-ml-llm-rag-ubuntu/declare_code_block/Gallery-Photo-Gallery-App-1.0_declare.json', 'seq_num': 50}\n",
      "******************** Document page_content no-50 ********************\n",
      "page_content='public b(final byte[] buf) {' metadata={'source': '/root/metaLeak-ml-llm-rag-ubuntu/declare_code_block/Gallery-Photo-Gallery-App-1.0_declare.json', 'seq_num': 51}\n",
      "******************** Document page_content no-51 ********************\n",
      "page_content='final byte[] a2 = new byte[w.length];' metadata={'source': '/root/metaLeak-ml-llm-rag-ubuntu/declare_code_block/Gallery-Photo-Gallery-App-1.0_declare.json', 'seq_num': 52}\n",
      "******************** Document page_content no-52 ********************\n",
      "page_content='final byte[] array2 = new byte[4];' metadata={'source': '/root/metaLeak-ml-llm-rag-ubuntu/declare_code_block/Gallery-Photo-Gallery-App-1.0_declare.json', 'seq_num': 53}\n",
      "******************** Document page_content no-53 ********************\n",
      "page_content='public static final byte[] Q;' metadata={'source': '/root/metaLeak-ml-llm-rag-ubuntu/declare_code_block/Gallery-Photo-Gallery-App-1.0_declare.json', 'seq_num': 54}\n",
      "******************** Document page_content no-54 ********************\n",
      "page_content='public final int read(final byte[] b, int read, final int len) {' metadata={'source': '/root/metaLeak-ml-llm-rag-ubuntu/declare_code_block/Gallery-Photo-Gallery-App-1.0_declare.json', 'seq_num': 55}\n",
      "******************** Document page_content no-55 ********************\n",
      "page_content='z = new byte[] { 73, 72, 68, 82 };' metadata={'source': '/root/metaLeak-ml-llm-rag-ubuntu/declare_code_block/Gallery-Photo-Gallery-App-1.0_declare.json', 'seq_num': 56}\n",
      "******************** Document page_content no-56 ********************\n",
      "page_content='wrap.putInt((int)(new long[] { n })[0]);' metadata={'source': '/root/metaLeak-ml-llm-rag-ubuntu/declare_code_block/Gallery-Photo-Gallery-App-1.0_declare.json', 'seq_num': 57}\n",
      "******************** Document page_content no-57 ********************\n",
      "page_content='if (h instanceof double[]) {' metadata={'source': '/root/metaLeak-ml-llm-rag-ubuntu/declare_code_block/Gallery-Photo-Gallery-App-1.0_declare.json', 'seq_num': 58}\n",
      "******************** Document page_content no-58 ********************\n",
      "page_content='final HashMap<String, c>[] e = this.e;' metadata={'source': '/root/metaLeak-ml-llm-rag-ubuntu/declare_code_block/Gallery-Photo-Gallery-App-1.0_declare.json', 'seq_num': 59}\n",
      "******************** Document page_content no-59 ********************\n",
      "page_content='public final HashMap<String, c>[] e;' metadata={'source': '/root/metaLeak-ml-llm-rag-ubuntu/declare_code_block/Gallery-Photo-Gallery-App-1.0_declare.json', 'seq_num': 60}\n",
      "******************** Document page_content no-60 ********************\n",
      "page_content='if (!(h instanceof int[])) {' metadata={'source': '/root/metaLeak-ml-llm-rag-ubuntu/declare_code_block/Gallery-Photo-Gallery-App-1.0_declare.json', 'seq_num': 61}\n",
      "******************** Document page_content no-61 ********************\n",
      "page_content='public static final byte[] s;' metadata={'source': '/root/metaLeak-ml-llm-rag-ubuntu/declare_code_block/Gallery-Photo-Gallery-App-1.0_declare.json', 'seq_num': 62}\n",
      "******************** Document page_content no-62 ********************\n",
      "page_content='public byte[] s;' metadata={'source': '/root/metaLeak-ml-llm-rag-ubuntu/declare_code_block/Gallery-Photo-Gallery-App-1.0_declare.json', 'seq_num': 63}\n",
      "******************** Document page_content no-63 ********************\n",
      "page_content='final e[] array4 = (Object)h;' metadata={'source': '/root/metaLeak-ml-llm-rag-ubuntu/declare_code_block/Gallery-Photo-Gallery-App-1.0_declare.json', 'seq_num': 64}\n",
      "******************** Document page_content no-64 ********************\n",
      "page_content='public static final HashMap<Integer, d>[] K;' metadata={'source': '/root/metaLeak-ml-llm-rag-ubuntu/declare_code_block/Gallery-Photo-Gallery-App-1.0_declare.json', 'seq_num': 65}\n",
      "******************** Document page_content no-65 ********************\n",
      "page_content='else if (h instanceof int[]) {' metadata={'source': '/root/metaLeak-ml-llm-rag-ubuntu/declare_code_block/Gallery-Photo-Gallery-App-1.0_declare.json', 'seq_num': 66}\n",
      "******************** Document page_content no-66 ********************\n",
      "page_content='final byte[] array = new byte[int1];' metadata={'source': '/root/metaLeak-ml-llm-rag-ubuntu/declare_code_block/Gallery-Photo-Gallery-App-1.0_declare.json', 'seq_num': 67}\n",
      "******************** Document page_content no-67 ********************\n",
      "page_content='public static final byte[] G;' metadata={'source': '/root/metaLeak-ml-llm-rag-ubuntu/declare_code_block/Gallery-Photo-Gallery-App-1.0_declare.json', 'seq_num': 68}\n",
      "******************** Document page_content no-68 ********************\n",
      "page_content='final int[] a = (Object)c2.h(this.g);' metadata={'source': '/root/metaLeak-ml-llm-rag-ubuntu/declare_code_block/Gallery-Photo-Gallery-App-1.0_declare.json', 'seq_num': 69}\n",
      "******************** Document page_content no-69 ********************\n",
      "page_content='public static final ByteOrder u;' metadata={'source': '/root/metaLeak-ml-llm-rag-ubuntu/declare_code_block/Gallery-Photo-Gallery-App-1.0_declare.json', 'seq_num': 70}\n",
      "******************** Document page_content no-70 ********************\n",
      "page_content='public static final d[][] I;' metadata={'source': '/root/metaLeak-ml-llm-rag-ubuntu/declare_code_block/Gallery-Photo-Gallery-App-1.0_declare.json', 'seq_num': 71}\n",
      "******************** Document page_content no-71 ********************\n",
      "page_content='public static final d[] J;' metadata={'source': '/root/metaLeak-ml-llm-rag-ubuntu/declare_code_block/Gallery-Photo-Gallery-App-1.0_declare.json', 'seq_num': 72}\n",
      "******************** Document page_content no-72 ********************\n",
      "page_content='final e[] a2 = (Object)c.h(this.g);' metadata={'source': '/root/metaLeak-ml-llm-rag-ubuntu/declare_code_block/Gallery-Photo-Gallery-App-1.0_declare.json', 'seq_num': 73}\n",
      "******************** Document page_content no-73 ********************\n",
      "page_content='public static final String[] E;' metadata={'source': '/root/metaLeak-ml-llm-rag-ubuntu/declare_code_block/Gallery-Photo-Gallery-App-1.0_declare.json', 'seq_num': 74}\n",
      "******************** Document page_content no-74 ********************\n",
      "page_content='C = new byte[] { 87, 69, 66, 80 };' metadata={'source': '/root/metaLeak-ml-llm-rag-ubuntu/declare_code_block/Gallery-Photo-Gallery-App-1.0_declare.json', 'seq_num': 75}\n",
      "******************** Document page_content no-75 ********************\n",
      "page_content='x = new byte[] { -119, 80, 78, 71, 13, 10, 26, 10 };' metadata={'source': '/root/metaLeak-ml-llm-rag-ubuntu/declare_code_block/Gallery-Photo-Gallery-App-1.0_declare.json', 'seq_num': 76}\n",
      "******************** Document page_content no-76 ********************\n",
      "page_content='r = new byte[] { -1, -40, -1 };' metadata={'source': '/root/metaLeak-ml-llm-rag-ubuntu/declare_code_block/Gallery-Photo-Gallery-App-1.0_declare.json', 'seq_num': 77}\n",
      "******************** Document page_content no-77 ********************\n",
      "page_content='final byte[] bytes = \"FUJIFILMCCD-RAW\".getBytes(Charset.defaultCharset());' metadata={'source': '/root/metaLeak-ml-llm-rag-ubuntu/declare_code_block/Gallery-Photo-Gallery-App-1.0_declare.json', 'seq_num': 78}\n",
      "******************** Document page_content no-78 ********************\n",
      "page_content='public static final byte[] B;' metadata={'source': '/root/metaLeak-ml-llm-rag-ubuntu/declare_code_block/Gallery-Photo-Gallery-App-1.0_declare.json', 'seq_num': 79}\n",
      "******************** Document page_content no-79 ********************\n",
      "page_content='final long[] b4 = b.b(c5.h(this.g));' metadata={'source': '/root/metaLeak-ml-llm-rag-ubuntu/declare_code_block/Gallery-Photo-Gallery-App-1.0_declare.json', 'seq_num': 80}\n",
      "******************** Document page_content no-80 ********************\n",
      "page_content='t = new byte[] { 109, 105, 102, 49 };' metadata={'source': '/root/metaLeak-ml-llm-rag-ubuntu/declare_code_block/Gallery-Photo-Gallery-App-1.0_declare.json', 'seq_num': 81}\n",
      "******************** Document page_content no-81 ********************\n",
      "page_content='final d[] array = { new d(\"NewSubfileType\", 254, 4), new d(\"SubfileType\", 255, 4), new d(256, 3, 4, \"ImageWidth\"), new d(257, 3, 4, \"ImageLength\"), new d(\"BitsPerSample\", 258, 3), new d(\"Compression\", 259, 3), new d(\"PhotometricInterpretation\", 262, 3), new d(\"ImageDescription\", 270, 2), new d(\"Make\", 271, 2), new d(\"Model\", 272, 2), new d(273, 3, 4, \"StripOffsets\"), new d(\"Orientation\", 274, 3), new d(\"SamplesPerPixel\", 277, 3), new d(278, 3, 4, \"RowsPerStrip\"), new d(279, 3, 4, \"StripByteCounts\"), new d(\"XResolution\", 282, 5), new d(\"YResolution\", 283, 5), new d(\"PlanarConfiguration\", 284, 3), new d(\"ResolutionUnit\", 296, 3), new d(\"TransferFunction\", 301, 3), new d(\"Software\", 305, 2), new d(\"DateTime\", 306, 2), new d(\"Artist\", 315, 2), new d(\"WhitePoint\", 318, 5), new d(\"PrimaryChromaticities\", 319, 5), new d(\"SubIFDPointer\", 330, 4), new d(\"JPEGInterchangeFormat\", 513, 4), new d(\"JPEGInterchangeFormatLength\", 514, 4), new d(\"YCbCrCoefficients\", 529, 5), new d(\"YCbCrSubSampling\", 530, 3), new d(\"YCbCrPositioning\", 531, 3), new d(\"ReferenceBlackWhite\", 532, 5), new d(\"Copyright\", 33432, 2), new d(\"ExifIFDPointer\", 34665, 4), new d(\"GPSInfoIFDPointer\", 34853, 4), new d(\"SensorTopBorder\", 4, 4), new d(\"SensorLeftBorder\", 5, 4), new d(\"SensorBottomBorder\", 6, 4), new d(\"SensorRightBorder\", 7, 4), new d(\"ISO\", 23, 3), new d(\"JpgFromRaw\", 46, 7), new d(\"Xmp\", 700, 1) };' metadata={'source': '/root/metaLeak-ml-llm-rag-ubuntu/declare_code_block/Gallery-Photo-Gallery-App-1.0_declare.json', 'seq_num': 82}\n",
      "******************** Document page_content no-82 ********************\n",
      "page_content='public final void s(final byte[] array, final int n) {' metadata={'source': '/root/metaLeak-ml-llm-rag-ubuntu/declare_code_block/Gallery-Photo-Gallery-App-1.0_declare.json', 'seq_num': 83}\n",
      "******************** Document page_content no-83 ********************\n",
      "page_content='final long[] b3 = b.b(c4.h(this.g));' metadata={'source': '/root/metaLeak-ml-llm-rag-ubuntu/declare_code_block/Gallery-Photo-Gallery-App-1.0_declare.json', 'seq_num': 84}\n",
      "******************** Document page_content no-84 ********************\n",
      "page_content='G = new byte[] { 65, 83, 67, 73, 73, 0, 0, 0 };' metadata={'source': '/root/metaLeak-ml-llm-rag-ubuntu/declare_code_block/Gallery-Photo-Gallery-App-1.0_declare.json', 'seq_num': 85}\n",
      "******************** Document page_content no-85 ********************\n",
      "page_content='wrap.putShort((short)(new int[] { n })[0]);' metadata={'source': '/root/metaLeak-ml-llm-rag-ubuntu/declare_code_block/Gallery-Photo-Gallery-App-1.0_declare.json', 'seq_num': 86}\n",
      "******************** Document page_content no-86 ********************\n",
      "page_content='public static final byte[] r;' metadata={'source': '/root/metaLeak-ml-llm-rag-ubuntu/declare_code_block/Gallery-Photo-Gallery-App-1.0_declare.json', 'seq_num': 87}\n",
      "******************** Document page_content no-87 ********************\n",
      "page_content='final e[] a = (Object)c.h(this.g);' metadata={'source': '/root/metaLeak-ml-llm-rag-ubuntu/declare_code_block/Gallery-Photo-Gallery-App-1.0_declare.json', 'seq_num': 88}\n",
      "******************** Document page_content no-88 ********************\n",
      "page_content='final boolean b = h instanceof long[];' metadata={'source': '/root/metaLeak-ml-llm-rag-ubuntu/declare_code_block/Gallery-Photo-Gallery-App-1.0_declare.json', 'seq_num': 89}\n",
      "******************** Document page_content no-89 ********************\n",
      "page_content='public static final ByteOrder t;' metadata={'source': '/root/metaLeak-ml-llm-rag-ubuntu/declare_code_block/Gallery-Photo-Gallery-App-1.0_declare.json', 'seq_num': 90}\n",
      "******************** Document page_content no-90 ********************\n",
      "page_content='final byte[] array3 = new byte[4];' metadata={'source': '/root/metaLeak-ml-llm-rag-ubuntu/declare_code_block/Gallery-Photo-Gallery-App-1.0_declare.json', 'seq_num': 91}\n",
      "******************** Document page_content no-91 ********************\n",
      "page_content='final byte[] v = e1.a.v;' metadata={'source': '/root/metaLeak-ml-llm-rag-ubuntu/declare_code_block/Gallery-Photo-Gallery-App-1.0_declare.json', 'seq_num': 92}\n",
      "******************** Document page_content no-92 ********************\n",
      "page_content='public static final int[] F;' metadata={'source': '/root/metaLeak-ml-llm-rag-ubuntu/declare_code_block/Gallery-Photo-Gallery-App-1.0_declare.json', 'seq_num': 93}\n",
      "******************** Document page_content no-93 ********************\n",
      "page_content='public static final byte[] A;' metadata={'source': '/root/metaLeak-ml-llm-rag-ubuntu/declare_code_block/Gallery-Photo-Gallery-App-1.0_declare.json', 'seq_num': 94}\n",
      "******************** Document page_content no-94 ********************\n",
      "page_content='u = new byte[] { 104, 101, 105, 99 };' metadata={'source': '/root/metaLeak-ml-llm-rag-ubuntu/declare_code_block/Gallery-Photo-Gallery-App-1.0_declare.json', 'seq_num': 95}\n",
      "******************** Document page_content no-95 ********************\n",
      "page_content='public f(final byte[] array) {' metadata={'source': '/root/metaLeak-ml-llm-rag-ubuntu/declare_code_block/Gallery-Photo-Gallery-App-1.0_declare.json', 'seq_num': 96}\n",
      "******************** Document page_content no-96 ********************\n",
      "page_content='byte[] array = null;' metadata={'source': '/root/metaLeak-ml-llm-rag-ubuntu/declare_code_block/Gallery-Photo-Gallery-App-1.0_declare.json', 'seq_num': 97}\n",
      "******************** Document page_content no-97 ********************\n",
      "page_content='final byte[] x = e1.a.x;' metadata={'source': '/root/metaLeak-ml-llm-rag-ubuntu/declare_code_block/Gallery-Photo-Gallery-App-1.0_declare.json', 'seq_num': 98}\n",
      "******************** Document page_content no-98 ********************\n",
      "page_content='public static final d H;' metadata={'source': '/root/metaLeak-ml-llm-rag-ubuntu/declare_code_block/Gallery-Photo-Gallery-App-1.0_declare.json', 'seq_num': 99}\n",
      "******************** Document page_content no-99 ********************\n",
      "page_content='public final void readFully(final byte[] b) {' metadata={'source': '/root/metaLeak-ml-llm-rag-ubuntu/declare_code_block/Gallery-Photo-Gallery-App-1.0_declare.json', 'seq_num': 100}\n",
      "******************** Document page_content no-100 ********************\n",
      "page_content='public static final byte[] v;' metadata={'source': '/root/metaLeak-ml-llm-rag-ubuntu/declare_code_block/Gallery-Photo-Gallery-App-1.0_declare.json', 'seq_num': 101}\n",
      "******************** Document page_content no-101 ********************\n",
      "page_content='bufferedInputStream.read((byte[])o);' metadata={'source': '/root/metaLeak-ml-llm-rag-ubuntu/declare_code_block/Gallery-Photo-Gallery-App-1.0_declare.json', 'seq_num': 102}\n",
      "******************** Document page_content no-102 ********************\n",
      "page_content='final byte[] bytes = s.concat(\"\\\\u0000\").getBytes(a.O);' metadata={'source': '/root/metaLeak-ml-llm-rag-ubuntu/declare_code_block/Gallery-Photo-Gallery-App-1.0_declare.json', 'seq_num': 103}\n",
      "******************** Document page_content no-103 ********************\n",
      "page_content='if (h instanceof long[]) {' metadata={'source': '/root/metaLeak-ml-llm-rag-ubuntu/declare_code_block/Gallery-Photo-Gallery-App-1.0_declare.json', 'seq_num': 104}\n",
      "******************** Document page_content no-104 ********************\n",
      "page_content='final byte[] w = e1.a.w;' metadata={'source': '/root/metaLeak-ml-llm-rag-ubuntu/declare_code_block/Gallery-Photo-Gallery-App-1.0_declare.json', 'seq_num': 105}\n",
      "******************** Document page_content no-105 ********************\n",
      "page_content='final byte[] b = new byte[int1];' metadata={'source': '/root/metaLeak-ml-llm-rag-ubuntu/declare_code_block/Gallery-Photo-Gallery-App-1.0_declare.json', 'seq_num': 106}\n",
      "******************** Document page_content no-106 ********************\n",
      "page_content='if (h instanceof e[]) {' metadata={'source': '/root/metaLeak-ml-llm-rag-ubuntu/declare_code_block/Gallery-Photo-Gallery-App-1.0_declare.json', 'seq_num': 107}\n",
      "******************** Document page_content no-107 ********************\n",
      "page_content='else if (h instanceof double[]) {' metadata={'source': '/root/metaLeak-ml-llm-rag-ubuntu/declare_code_block/Gallery-Photo-Gallery-App-1.0_declare.json', 'seq_num': 108}\n",
      "******************** Document page_content no-108 ********************\n",
      "page_content='final long[] array = (Object)h;' metadata={'source': '/root/metaLeak-ml-llm-rag-ubuntu/declare_code_block/Gallery-Photo-Gallery-App-1.0_declare.json', 'seq_num': 109}\n",
      "******************** Document page_content no-109 ********************\n",
      "page_content='final int[] f3 = e1.a.F;' metadata={'source': '/root/metaLeak-ml-llm-rag-ubuntu/declare_code_block/Gallery-Photo-Gallery-App-1.0_declare.json', 'seq_num': 110}\n",
      "******************** Document page_content no-110 ********************\n",
      "page_content='public static final byte[] u;' metadata={'source': '/root/metaLeak-ml-llm-rag-ubuntu/declare_code_block/Gallery-Photo-Gallery-App-1.0_declare.json', 'seq_num': 111}\n",
      "******************** Document page_content no-111 ********************\n",
      "page_content='final d[][] i = e1.a.I;' metadata={'source': '/root/metaLeak-ml-llm-rag-ubuntu/declare_code_block/Gallery-Photo-Gallery-App-1.0_declare.json', 'seq_num': 112}\n",
      "******************** Document page_content no-112 ********************\n",
      "page_content='final byte[] array = new byte[n5];' metadata={'source': '/root/metaLeak-ml-llm-rag-ubuntu/declare_code_block/Gallery-Photo-Gallery-App-1.0_declare.json', 'seq_num': 113}\n",
      "******************** Document page_content no-113 ********************\n",
      "page_content='public static final int[] p;' metadata={'source': '/root/metaLeak-ml-llm-rag-ubuntu/declare_code_block/Gallery-Photo-Gallery-App-1.0_declare.json', 'seq_num': 114}\n",
      "******************** Document page_content no-114 ********************\n",
      "page_content='D = new byte[] { 69, 88, 73, 70 };' metadata={'source': '/root/metaLeak-ml-llm-rag-ubuntu/declare_code_block/Gallery-Photo-Gallery-App-1.0_declare.json', 'seq_num': 115}\n",
      "******************** Document page_content no-115 ********************\n",
      "page_content='final byte[] array2 = new byte[n5];' metadata={'source': '/root/metaLeak-ml-llm-rag-ubuntu/declare_code_block/Gallery-Photo-Gallery-App-1.0_declare.json', 'seq_num': 116}\n",
      "******************** Document page_content no-116 ********************\n",
      "page_content='final byte[] b = new byte[4];' metadata={'source': '/root/metaLeak-ml-llm-rag-ubuntu/declare_code_block/Gallery-Photo-Gallery-App-1.0_declare.json', 'seq_num': 117}\n",
      "******************** Document page_content no-117 ********************\n",
      "page_content='public static final byte[] t;' metadata={'source': '/root/metaLeak-ml-llm-rag-ubuntu/declare_code_block/Gallery-Photo-Gallery-App-1.0_declare.json', 'seq_num': 118}\n",
      "******************** Document page_content no-118 ********************\n",
      "page_content='public c(final byte[] array, final int n, final int n2) {' metadata={'source': '/root/metaLeak-ml-llm-rag-ubuntu/declare_code_block/Gallery-Photo-Gallery-App-1.0_declare.json', 'seq_num': 119}\n",
      "******************** Document page_content no-119 ********************\n",
      "page_content='if (!Arrays.equals((byte[])o, e1.a.s)) {' metadata={'source': '/root/metaLeak-ml-llm-rag-ubuntu/declare_code_block/Gallery-Photo-Gallery-App-1.0_declare.json', 'seq_num': 120}\n",
      "******************** Document page_content no-120 ********************\n",
      "page_content='if (!(h instanceof e[])) {' metadata={'source': '/root/metaLeak-ml-llm-rag-ubuntu/declare_code_block/Gallery-Photo-Gallery-App-1.0_declare.json', 'seq_num': 121}\n",
      "******************** Document page_content no-121 ********************\n",
      "page_content='public static final byte[] C;' metadata={'source': '/root/metaLeak-ml-llm-rag-ubuntu/declare_code_block/Gallery-Photo-Gallery-App-1.0_declare.json', 'seq_num': 122}\n",
      "******************** Document page_content no-122 ********************\n",
      "page_content='A = new byte[] { 73, 69, 78, 68 };' metadata={'source': '/root/metaLeak-ml-llm-rag-ubuntu/declare_code_block/Gallery-Photo-Gallery-App-1.0_declare.json', 'seq_num': 123}\n",
      "******************** Document page_content no-123 ********************\n",
      "page_content='HashMap<String, c>[] e;' metadata={'source': '/root/metaLeak-ml-llm-rag-ubuntu/declare_code_block/Gallery-Photo-Gallery-App-1.0_declare.json', 'seq_num': 124}\n"
     ]
    }
   ],
   "source": [
    "# Load data\n",
    "declare_code_file = declare_code_block_path+\"/\"+declare_code_files[0]\n",
    "print(\"File name :\"+declare_code_file)\n",
    "declare_code_documents = load_json_data(declare_code_file,\"declare\")\n",
    "# metadata input\n",
    "metadata_input = (declare_code_documents[0].metadata)[\"source\"]\n",
    "print(metadata_input)\n",
    "app_name = get_sub_string(metadata_input)\n",
    "print(app_name)\n",
    "for i in range(len(declare_code_documents)):\n",
    "    print(\"******************** Document page_content no-\"+str(i)+\" ********************\")\n",
    "    document = declare_code_documents[i]\n",
    "    print(document)"
   ]
  },
  {
   "cell_type": "code",
   "execution_count": 10,
   "id": "da1740dc-5a25-418e-ba5b-a1c2968844c7",
   "metadata": {},
   "outputs": [
    {
     "name": "stdout",
     "output_type": "stream",
     "text": [
      "final d[] array = { new d(\"NewSubfileType\", 254, 4), new d(\"SubfileType\", 255, 4), new d(256, 3, 4, \"ImageWidth\"), new d(257, 3, 4, \"ImageLength\"), new d(\"BitsPerSample\", 258, 3), new d(\"Compression\", 259, 3), new d(\"PhotometricInterpretation\", 262, 3), new d(\"ImageDescription\", 270, 2), new d(\"Make\", 271, 2), new d(\"Model\", 272, 2), new d(273, 3, 4, \"StripOffsets\"), new d(\"Orientation\", 274, 3), new d(\"SamplesPerPixel\", 277, 3), new d(278, 3, 4, \"RowsPerStrip\"), new d(279, 3, 4, \"StripByteCounts\"), new d(\"XResolution\", 282, 5), new d(\"YResolution\", 283, 5), new d(\"PlanarConfiguration\", 284, 3), new d(\"ResolutionUnit\", 296, 3), new d(\"TransferFunction\", 301, 3), new d(\"Software\", 305, 2), new d(\"DateTime\", 306, 2), new d(\"Artist\", 315, 2), new d(\"WhitePoint\", 318, 5), new d(\"PrimaryChromaticities\", 319, 5), new d(\"SubIFDPointer\", 330, 4), new d(\"JPEGInterchangeFormat\", 513, 4), new d(\"JPEGInterchangeFormatLength\", 514, 4), new d(\"YCbCrCoefficients\", 529, 5), new d(\"YCbCrSubSampling\", 530, 3), new d(\"YCbCrPositioning\", 531, 3), new d(\"ReferenceBlackWhite\", 532, 5), new d(\"Copyright\", 33432, 2), new d(\"ExifIFDPointer\", 34665, 4), new d(\"GPSInfoIFDPointer\", 34853, 4), new d(\"SensorTopBorder\", 4, 4), new d(\"SensorLeftBorder\", 5, 4), new d(\"SensorBottomBorder\", 6, 4), new d(\"SensorRightBorder\", 7, 4), new d(\"ISO\", 23, 3), new d(\"JpgFromRaw\", 46, 7), new d(\"Xmp\", 700, 1) };\n",
      "<class 'str'>\n"
     ]
    }
   ],
   "source": [
    "query = declare_code_documents[81].page_content\n",
    "# query = declare_code_documents[7].page_content\n",
    "print(query)\n",
    "print(type(query))"
   ]
  },
  {
   "cell_type": "code",
   "execution_count": 11,
   "id": "db0787f8-9021-4753-a60e-6de0de1f9f67",
   "metadata": {},
   "outputs": [
    {
     "name": "stdout",
     "output_type": "stream",
     "text": [
      "4\n",
      "[Document(page_content='final d[] array = { new d(\"NewSubfileType\", 254, 4), new d(\"SubfileType\", 255, 4), new d(256, 3, 4, \"ImageWidth\"), new d(257, 3, 4, \"ImageLength\"), new d(\"BitsPerSample\", 258, 3), new d(\"Compression\", 259, 3), new d(\"PhotometricInterpretation\", 262, 3), new d(\"ImageDescription\", 270, 2), new d(\"Make\", 271, 2), new d(\"Model\", 272, 2), new d(273, 3, 4, \"StripOffsets\"), new d(\"Orientation\", 274, 3), new d(\"SamplesPerPixel\", 277, 3), new d(278, 3, 4, \"RowsPerStrip\"), new d(279, 3, 4, \"StripByteCounts\"), new d(\"XResolution\", 282, 5), new d(\"YResolution\", 283, 5), new d(\"PlanarConfiguration\", 284, 3), new d(\"ResolutionUnit\", 296, 3), new d(\"TransferFunction\", 301, 3), new d(\"Software\", 305, 2), new d(\"DateTime\", 306, 2), new d(\"Artist\", 315, 2), new d(\"WhitePoint\", 318, 5), new d(\"PrimaryChromaticities\", 319, 5), new d(\"SubIFDPointer\", 330, 4), new d(\"JPEGInterchangeFormat\", 513, 4), new d(\"JPEGInterchangeFormatLength\", 514, 4), new d(\"YCbCrCoefficients\", 529, 5), new d(\"YCbCrSubSampling\", 530, 3), new d(\"YCbCrPositioning\", 531, 3), new d(\"ReferenceBlackWhite\", 532, 5), new d(\"Copyright\", 33432, 2), new d(\"ExifIFDPointer\", 34665, 4), new d(\"GPSInfoIFDPointer\", 34853, 4), new d(\"SensorTopBorder\", 4, 4), new d(\"SensorLeftBorder\", 5, 4), new d(\"SensorBottomBorder\", 6, 4), new d(\"SensorRightBorder\", 7, 4), new d(\"ISO\", 23, 3), new d(\"JpgFromRaw\", 46, 7), new d(\"Xmp\", 700, 1) };', metadata={'source': '/root/metaLeak-ml-llm-rag-ubuntu/declare_code_block/Gallery-Photo-Gallery-App-1.0_declare.json', 'seq_num': 82}), Document(page_content='final d[] array = { new d(\"NewSubfileType\", 254, 4), new d(\"SubfileType\", 255, 4), new d(256, 3, 4, \"ImageWidth\"), new d(257, 3, 4, \"ImageLength\"), new d(\"BitsPerSample\", 258, 3), new d(\"Compression\", 259, 3), new d(\"PhotometricInterpretation\", 262, 3), new d(\"ImageDescription\", 270, 2), new d(\"Make\", 271, 2), new d(\"Model\", 272, 2), new d(273, 3, 4, \"StripOffsets\"), new d(\"Orientation\", 274, 3), new d(\"SamplesPerPixel\", 277, 3), new d(278, 3, 4, \"RowsPerStrip\"), new d(279, 3, 4, \"StripByteCounts\"), new d(\"XResolution\", 282, 5), new d(\"YResolution\", 283, 5), new d(\"PlanarConfiguration\", 284, 3), new d(\"ResolutionUnit\", 296, 3), new d(\"TransferFunction\", 301, 3), new d(\"Software\", 305, 2), new d(\"DateTime\", 306, 2), new d(\"Artist\", 315, 2), new d(\"WhitePoint\", 318, 5), new d(\"PrimaryChromaticities\", 319, 5), new d(\"SubIFDPointer\", 330, 4), new d(\"JPEGInterchangeFormat\", 513, 4), new d(\"JPEGInterchangeFormatLength\", 514, 4), new d(\"YCbCrCoefficients\", 529, 5), new d(\"YCbCrSubSampling\", 530, 3), new d(\"YCbCrPositioning\", 531, 3), new d(\"ReferenceBlackWhite\", 532, 5), new d(\"Copyright\", 33432, 2), new d(\"ExifIFDPointer\", 34665, 4), new d(\"GPSInfoIFDPointer\", 34853, 4), new d(\"SensorTopBorder\", 4, 4), new d(\"SensorLeftBorder\", 5, 4), new d(\"SensorBottomBorder\", 6, 4), new d(\"SensorRightBorder\", 7, 4), new d(\"ISO\", 23, 3), new d(\"JpgFromRaw\", 46, 7), new d(\"Xmp\", 700, 1) };', metadata={'source': '/root/metaLeak-ml-llm-rag-ubuntu/declare_code_block/Photo-Compress-Image-Resize-3.11_declare.json', 'seq_num': 75}), Document(page_content='final d[] array = { new d(\"NewSubfileType\", 254, 4), new d(\"SubfileType\", 255, 4), new d(256, 3, 4, \"ImageWidth\"), new d(257, 3, 4, \"ImageLength\"), new d(\"BitsPerSample\", 258, 3), new d(\"Compression\", 259, 3), new d(\"PhotometricInterpretation\", 262, 3), new d(\"ImageDescription\", 270, 2), new d(\"Make\", 271, 2), new d(\"Model\", 272, 2), new d(273, 3, 4, \"StripOffsets\"), new d(\"Orientation\", 274, 3), new d(\"SamplesPerPixel\", 277, 3), new d(278, 3, 4, \"RowsPerStrip\"), new d(279, 3, 4, \"StripByteCounts\"), new d(\"XResolution\", 282, 5), new d(\"YResolution\", 283, 5), new d(\"PlanarConfiguration\", 284, 3), new d(\"ResolutionUnit\", 296, 3), new d(\"TransferFunction\", 301, 3), new d(\"Software\", 305, 2), new d(\"DateTime\", 306, 2), new d(\"Artist\", 315, 2), new d(\"WhitePoint\", 318, 5), new d(\"PrimaryChromaticities\", 319, 5), new d(\"SubIFDPointer\", 330, 4), new d(\"JPEGInterchangeFormat\", 513, 4), new d(\"JPEGInterchangeFormatLength\", 514, 4), new d(\"YCbCrCoefficients\", 529, 5), new d(\"YCbCrSubSampling\", 530, 3), new d(\"YCbCrPositioning\", 531, 3), new d(\"ReferenceBlackWhite\", 532, 5), new d(\"Copyright\", 33432, 2), new d(\"ExifIFDPointer\", 34665, 4), new d(\"GPSInfoIFDPointer\", 34853, 4), new d(\"SensorTopBorder\", 4, 4), new d(\"SensorLeftBorder\", 5, 4), new d(\"SensorBottomBorder\", 6, 4), new d(\"SensorRightBorder\", 7, 4), new d(\"ISO\", 23, 3), new d(\"JpgFromRaw\", 46, 7), new d(\"Xmp\", 700, 1) };', metadata={'source': '/root/metaLeak-ml-llm-rag-ubuntu/declare_code_block/File-Manager-File-Explorer-2.3_declare.json', 'seq_num': 65}), Document(page_content='final d[] array = { new d(\"NewSubfileType\", 254, 4), new d(\"SubfileType\", 255, 4), new d(256, 3, 4, \"ImageWidth\"), new d(257, 3, 4, \"ImageLength\"), new d(\"BitsPerSample\", 258, 3), new d(\"Compression\", 259, 3), new d(\"PhotometricInterpretation\", 262, 3), new d(\"ImageDescription\", 270, 2), new d(\"Make\", 271, 2), new d(\"Model\", 272, 2), new d(273, 3, 4, \"StripOffsets\"), new d(\"Orientation\", 274, 3), new d(\"SamplesPerPixel\", 277, 3), new d(278, 3, 4, \"RowsPerStrip\"), new d(279, 3, 4, \"StripByteCounts\"), new d(\"XResolution\", 282, 5), new d(\"YResolution\", 283, 5), new d(\"PlanarConfiguration\", 284, 3), new d(\"ResolutionUnit\", 296, 3), new d(\"TransferFunction\", 301, 3), new d(\"Software\", 305, 2), new d(\"DateTime\", 306, 2), new d(\"Artist\", 315, 2), new d(\"WhitePoint\", 318, 5), new d(\"PrimaryChromaticities\", 319, 5), new d(\"SubIFDPointer\", 330, 4), new d(\"JPEGInterchangeFormat\", 513, 4), new d(\"JPEGInterchangeFormatLength\", 514, 4), new d(\"YCbCrCoefficients\", 529, 5), new d(\"YCbCrSubSampling\", 530, 3), new d(\"YCbCrPositioning\", 531, 3), new d(\"ReferenceBlackWhite\", 532, 5), new d(\"Copyright\", 33432, 2), new d(\"ExifIFDPointer\", 34665, 4), new d(\"GPSInfoIFDPointer\", 34853, 4), new d(\"SensorTopBorder\", 4, 4), new d(\"SensorLeftBorder\", 5, 4), new d(\"SensorBottomBorder\", 6, 4), new d(\"SensorRightBorder\", 7, 4), new d(\"ISO\", 23, 3), new d(\"JpgFromRaw\", 46, 7), new d(\"Xmp\", 700, 1) };', metadata={'source': '/root/metaLeak-ml-llm-rag-ubuntu/declare_code_block/Gallery-Photo-Gallery-Album-1.0_declare.json', 'seq_num': 81})]\n",
      "++++++++++++++++++++++++++\n",
      "Similar app is a list ['Gallery-Photo-Gallery-App-1', 'Photo-Compress-Image-Resize-3', 'File-Manager-File-Explorer-2', 'Gallery-Photo-Gallery-Album-1']\n"
     ]
    }
   ],
   "source": [
    "# query = \"\"\"\n",
    "# \"final e[] array = { new e(\\\"NewSubfileType\\\", 254, 4), new e(\\\"SubfileType\\\", 255, 4), new e(\\\"ImageWidth\\\", 256, 3, 4), new e(\\\"ImageLength\\\", 257, 3, 4), new e(\\\"BitsPerSample\\\", 258, 3), new e(\\\"Compression\\\", 259, 3), new e(\\\"PhotometricInterpretation\\\", 262, 3), new e(\\\"ImageDescription\\\", 270, 2), new e(\\\"Make\\\", 271, 2), new e(\\\"Model\\\", 272, 2), new e(\\\"StripOffsets\\\", 273, 3, 4), new e(\\\"Orientation\\\", 274, 3), new e(\\\"SamplesPerPixel\\\", 277, 3), new e(\\\"RowsPerStrip\\\", 278, 3, 4), new e(\\\"StripByteCounts\\\", 279, 3, 4), new e(\\\"XResolution\\\", 282, 5), new e(\\\"YResolution\\\", 283, 5), new e(\\\"PlanarConfiguration\\\", 284, 3), new e(\\\"ResolutionUnit\\\", 296, 3), new e(\\\"TransferFunction\\\", 301, 3), new e(\\\"Software\\\", 305, 2), new e(\\\"DateTime\\\", 306, 2), new e(\\\"Artist\\\", 315, 2), new e(\\\"WhitePoint\\\", 318, 5), new e(\\\"PrimaryChromaticities\\\", 319, 5), new e(\\\"SubIFDPointer\\\", 330, 4), new e(\\\"JPEGInterchangeFormat\\\", 513, 4), new e(\\\"JPEGInterchangeFormatLength\\\", 514, 4), new e(\\\"YCbCrCoefficients\\\", 529, 5), new e(\\\"YCbCrSubSampling\\\", 530, 3), new e(\\\"YCbCrPositioning\\\", 531, 3), new e(\\\"ReferenceBlackWhite\\\", 532, 5), new e(\\\"Copyright\\\", 33432, 2), new e(\\\"ExifIFDPointer\\\", 34665, 4), new e(\\\"GPSInfoIFDPointer\\\", 34853, 4), new e(\\\"SensorTopBorder\\\", 4, 4), new e(\\\"SensorLeftBorder\\\", 5, 4), new e(\\\"SensorBottomBorder\\\", 6, 4), new e(\\\"SensorRightBorder\\\", 7, 4), new e(\\\"ISO\\\", 23, 3), new e(\\\"JpgFromRaw\\\", 46, 7), new e(\\\"Xmp\\\", 700, 1) };\",\n",
    "# \"\"\"\n",
    "docs_similar = retriever.invoke(query)\n",
    "print(len(docs_similar))\n",
    "print(docs_similar)\n",
    "# docs = db_connect.similarity_search(query)\n",
    "# print(docs)\n",
    "similar_apps = []\n",
    "for j in range(len(docs_similar)):\n",
    "    similar_metadata = (docs_similar[j].metadata)[\"source\"]\n",
    "    similar_app = get_sub_string(similar_metadata)\n",
    "    similar_apps.append(similar_app)\n",
    "print(\"++++++++++++++++++++++++++\")\n",
    "print(\"Similar app is a list\", str(similar_apps))"
   ]
  },
  {
   "cell_type": "code",
   "execution_count": 12,
   "id": "f7297ead-b92b-4776-b11d-985ca9b68791",
   "metadata": {},
   "outputs": [
    {
     "name": "stdout",
     "output_type": "stream",
     "text": [
      "input_variables=['chat_history', 'input'] input_types={'chat_history': typing.List[typing.Union[langchain_core.messages.ai.AIMessage, langchain_core.messages.human.HumanMessage, langchain_core.messages.chat.ChatMessage, langchain_core.messages.system.SystemMessage, langchain_core.messages.function.FunctionMessage, langchain_core.messages.tool.ToolMessage]]} messages=[MessagesPlaceholder(variable_name='chat_history'), HumanMessagePromptTemplate(prompt=PromptTemplate(input_variables=['input'], template='{input}')), HumanMessagePromptTemplate(prompt=PromptTemplate(input_variables=[], template='Given the above programming code block, generate a search query to look up information relevant to the conversation'))]\n"
     ]
    }
   ],
   "source": [
    "# First, we need a prompt that we can pass into an LLM to generate this search query\n",
    "prompt = ChatPromptTemplate.from_messages([\n",
    "    MessagesPlaceholder(variable_name=\"chat_history\"),\n",
    "    (\"user\",\"{input}\"),\n",
    "    (\"user\",\"Given the above programming code block, generate a search query to look up information relevant to the conversation\")\n",
    "])\n",
    "print(prompt)"
   ]
  },
  {
   "cell_type": "code",
   "execution_count": 13,
   "id": "06a07329-a044-43dc-bff2-a18681eb04d1",
   "metadata": {},
   "outputs": [],
   "source": [
    "prompt = ChatPromptTemplate.from_messages(\n",
    "    [\n",
    "        (\"placeholder\", \"{chat_history}\"),\n",
    "        (\"user\", \"{input}\"),\n",
    "        (\n",
    "            \"user\",\n",
    "            \"Given the above conversation, generate a search query to look up to get information relevant to the conversation\",\n",
    "        ),\n",
    "    ]\n",
    ")\n",
    "\n",
    "retriever_chain = create_history_aware_retriever(llm, retriever, prompt)\n",
    "\n",
    "prompt = ChatPromptTemplate.from_messages(\n",
    "    [\n",
    "        (\n",
    "            \"system\",\n",
    "            \"Answer the user's questions based on the below context:\\n\\n{context}\",\n",
    "        ),\n",
    "        (\"placeholder\", \"{chat_history}\"),\n",
    "        (\"user\", \"{input}\"),\n",
    "    ]\n",
    ")\n",
    "document_chain = create_stuff_documents_chain(llm, prompt)\n",
    "\n",
    "qa = create_retrieval_chain(retriever_chain, document_chain)"
   ]
  },
  {
   "cell_type": "code",
   "execution_count": 14,
   "id": "79be6824-908b-4d01-a606-ff6146dd65f7",
   "metadata": {},
   "outputs": [
    {
     "name": "stdout",
     "output_type": "stream",
     "text": [
      "---QUESTION---\n",
      "\n",
      "What is Exif metadata in this list (Make, Model, Software, GPS, Datetime) included in this code block below? \n",
      "\n",
      "[Document(page_content='final d[] array = { new d(\"NewSubfileType\", 254, 4), new d(\"SubfileType\", 255, 4), new d(256, 3, 4, \"ImageWidth\"), new d(257, 3, 4, \"ImageLength\"), new d(\"BitsPerSample\", 258, 3), new d(\"Compression\", 259, 3), new d(\"PhotometricInterpretation\", 262, 3), new d(\"ImageDescription\", 270, 2), new d(\"Make\", 271, 2), new d(\"Model\", 272, 2), new d(273, 3, 4, \"StripOffsets\"), new d(\"Orientation\", 274, 3), new d(\"SamplesPerPixel\", 277, 3), new d(278, 3, 4, \"RowsPerStrip\"), new d(279, 3, 4, \"StripByteCounts\"), new d(\"XResolution\", 282, 5), new d(\"YResolution\", 283, 5), new d(\"PlanarConfiguration\", 284, 3), new d(\"ResolutionUnit\", 296, 3), new d(\"TransferFunction\", 301, 3), new d(\"Software\", 305, 2), new d(\"DateTime\", 306, 2), new d(\"Artist\", 315, 2), new d(\"WhitePoint\", 318, 5), new d(\"PrimaryChromaticities\", 319, 5), new d(\"SubIFDPointer\", 330, 4), new d(\"JPEGInterchangeFormat\", 513, 4), new d(\"JPEGInterchangeFormatLength\", 514, 4), new d(\"YCbCrCoefficients\", 529, 5), new d(\"YCbCrSubSampling\", 530, 3), new d(\"YCbCrPositioning\", 531, 3), new d(\"ReferenceBlackWhite\", 532, 5), new d(\"Copyright\", 33432, 2), new d(\"ExifIFDPointer\", 34665, 4), new d(\"GPSInfoIFDPointer\", 34853, 4), new d(\"SensorTopBorder\", 4, 4), new d(\"SensorLeftBorder\", 5, 4), new d(\"SensorBottomBorder\", 6, 4), new d(\"SensorRightBorder\", 7, 4), new d(\"ISO\", 23, 3), new d(\"JpgFromRaw\", 46, 7), new d(\"Xmp\", 700, 1) };', metadata={'source': '/root/metaLeak-ml-llm-rag-ubuntu/declare_code_block/Gallery-Photo-Gallery-App-1.0_declare.json', 'seq_num': 82}), Document(page_content='final d[] array = { new d(\"NewSubfileType\", 254, 4), new d(\"SubfileType\", 255, 4), new d(256, 3, 4, \"ImageWidth\"), new d(257, 3, 4, \"ImageLength\"), new d(\"BitsPerSample\", 258, 3), new d(\"Compression\", 259, 3), new d(\"PhotometricInterpretation\", 262, 3), new d(\"ImageDescription\", 270, 2), new d(\"Make\", 271, 2), new d(\"Model\", 272, 2), new d(273, 3, 4, \"StripOffsets\"), new d(\"Orientation\", 274, 3), new d(\"SamplesPerPixel\", 277, 3), new d(278, 3, 4, \"RowsPerStrip\"), new d(279, 3, 4, \"StripByteCounts\"), new d(\"XResolution\", 282, 5), new d(\"YResolution\", 283, 5), new d(\"PlanarConfiguration\", 284, 3), new d(\"ResolutionUnit\", 296, 3), new d(\"TransferFunction\", 301, 3), new d(\"Software\", 305, 2), new d(\"DateTime\", 306, 2), new d(\"Artist\", 315, 2), new d(\"WhitePoint\", 318, 5), new d(\"PrimaryChromaticities\", 319, 5), new d(\"SubIFDPointer\", 330, 4), new d(\"JPEGInterchangeFormat\", 513, 4), new d(\"JPEGInterchangeFormatLength\", 514, 4), new d(\"YCbCrCoefficients\", 529, 5), new d(\"YCbCrSubSampling\", 530, 3), new d(\"YCbCrPositioning\", 531, 3), new d(\"ReferenceBlackWhite\", 532, 5), new d(\"Copyright\", 33432, 2), new d(\"ExifIFDPointer\", 34665, 4), new d(\"GPSInfoIFDPointer\", 34853, 4), new d(\"SensorTopBorder\", 4, 4), new d(\"SensorLeftBorder\", 5, 4), new d(\"SensorBottomBorder\", 6, 4), new d(\"SensorRightBorder\", 7, 4), new d(\"ISO\", 23, 3), new d(\"JpgFromRaw\", 46, 7), new d(\"Xmp\", 700, 1) };', metadata={'source': '/root/metaLeak-ml-llm-rag-ubuntu/declare_code_block/Photo-Compress-Image-Resize-3.11_declare.json', 'seq_num': 75}), Document(page_content='final d[] array = { new d(\"NewSubfileType\", 254, 4), new d(\"SubfileType\", 255, 4), new d(256, 3, 4, \"ImageWidth\"), new d(257, 3, 4, \"ImageLength\"), new d(\"BitsPerSample\", 258, 3), new d(\"Compression\", 259, 3), new d(\"PhotometricInterpretation\", 262, 3), new d(\"ImageDescription\", 270, 2), new d(\"Make\", 271, 2), new d(\"Model\", 272, 2), new d(273, 3, 4, \"StripOffsets\"), new d(\"Orientation\", 274, 3), new d(\"SamplesPerPixel\", 277, 3), new d(278, 3, 4, \"RowsPerStrip\"), new d(279, 3, 4, \"StripByteCounts\"), new d(\"XResolution\", 282, 5), new d(\"YResolution\", 283, 5), new d(\"PlanarConfiguration\", 284, 3), new d(\"ResolutionUnit\", 296, 3), new d(\"TransferFunction\", 301, 3), new d(\"Software\", 305, 2), new d(\"DateTime\", 306, 2), new d(\"Artist\", 315, 2), new d(\"WhitePoint\", 318, 5), new d(\"PrimaryChromaticities\", 319, 5), new d(\"SubIFDPointer\", 330, 4), new d(\"JPEGInterchangeFormat\", 513, 4), new d(\"JPEGInterchangeFormatLength\", 514, 4), new d(\"YCbCrCoefficients\", 529, 5), new d(\"YCbCrSubSampling\", 530, 3), new d(\"YCbCrPositioning\", 531, 3), new d(\"ReferenceBlackWhite\", 532, 5), new d(\"Copyright\", 33432, 2), new d(\"ExifIFDPointer\", 34665, 4), new d(\"GPSInfoIFDPointer\", 34853, 4), new d(\"SensorTopBorder\", 4, 4), new d(\"SensorLeftBorder\", 5, 4), new d(\"SensorBottomBorder\", 6, 4), new d(\"SensorRightBorder\", 7, 4), new d(\"ISO\", 23, 3), new d(\"JpgFromRaw\", 46, 7), new d(\"Xmp\", 700, 1) };', metadata={'source': '/root/metaLeak-ml-llm-rag-ubuntu/declare_code_block/File-Manager-File-Explorer-2.3_declare.json', 'seq_num': 65}), Document(page_content='final d[] array = { new d(\"NewSubfileType\", 254, 4), new d(\"SubfileType\", 255, 4), new d(256, 3, 4, \"ImageWidth\"), new d(257, 3, 4, \"ImageLength\"), new d(\"BitsPerSample\", 258, 3), new d(\"Compression\", 259, 3), new d(\"PhotometricInterpretation\", 262, 3), new d(\"ImageDescription\", 270, 2), new d(\"Make\", 271, 2), new d(\"Model\", 272, 2), new d(273, 3, 4, \"StripOffsets\"), new d(\"Orientation\", 274, 3), new d(\"SamplesPerPixel\", 277, 3), new d(278, 3, 4, \"RowsPerStrip\"), new d(279, 3, 4, \"StripByteCounts\"), new d(\"XResolution\", 282, 5), new d(\"YResolution\", 283, 5), new d(\"PlanarConfiguration\", 284, 3), new d(\"ResolutionUnit\", 296, 3), new d(\"TransferFunction\", 301, 3), new d(\"Software\", 305, 2), new d(\"DateTime\", 306, 2), new d(\"Artist\", 315, 2), new d(\"WhitePoint\", 318, 5), new d(\"PrimaryChromaticities\", 319, 5), new d(\"SubIFDPointer\", 330, 4), new d(\"JPEGInterchangeFormat\", 513, 4), new d(\"JPEGInterchangeFormatLength\", 514, 4), new d(\"YCbCrCoefficients\", 529, 5), new d(\"YCbCrSubSampling\", 530, 3), new d(\"YCbCrPositioning\", 531, 3), new d(\"ReferenceBlackWhite\", 532, 5), new d(\"Copyright\", 33432, 2), new d(\"ExifIFDPointer\", 34665, 4), new d(\"GPSInfoIFDPointer\", 34853, 4), new d(\"SensorTopBorder\", 4, 4), new d(\"SensorLeftBorder\", 5, 4), new d(\"SensorBottomBorder\", 6, 4), new d(\"SensorRightBorder\", 7, 4), new d(\"ISO\", 23, 3), new d(\"JpgFromRaw\", 46, 7), new d(\"Xmp\", 700, 1) };', metadata={'source': '/root/metaLeak-ml-llm-rag-ubuntu/declare_code_block/Gallery-Photo-Gallery-Album-1.0_declare.json', 'seq_num': 81})] \n",
      "\n",
      "If EXIF is not found in the code block, the simple answer is \"the code block is unrelated to any kind of EXIF metadata.\"\n",
      "\n",
      "---CODE PURPOSE---\n",
      "The EXIF metadata included in the code block are:\n",
      "\n",
      "- \"Make\" (tag 271, type 2)\n",
      "- \"Model\" (tag 272, type 2)\n",
      "- \"Software\" (tag 305, type 2)\n",
      "- \"DateTime\" (tag 306, type 2)\n",
      "- \"GPSInfoIFDPointer\" (tag 34853, type 4)\n",
      "\n",
      "These tags are part of the EXIF metadata standard, which is used to store information related to the image such as the camera settings and other attributes when the photo was taken.\n",
      "String written to 'code_purpose//code_purpose.txt' successfully.\n"
     ]
    }
   ],
   "source": [
    "question = f\"\"\"\n",
    "What is Exif metadata in this list (Make, Model, Software, GPS, Datetime) included in this code block below? \\n\n",
    "{docs_similar} \\n\n",
    "If EXIF is not found in the code block, the simple answer is \"the code block is unrelated to any kind of EXIF metadata.\"\n",
    "\"\"\"\n",
    "print(\"---QUESTION---\")\n",
    "print(question)\n",
    "result = qa.invoke({\"input\": question})\n",
    "code_purpose = result[\"answer\"]\n",
    "print(\"---CODE PURPOSE---\")\n",
    "print(code_purpose)\n",
    "#print(type(code_purpose))\n",
    "write_string_to_file(code_purpose, code_purpose_file)"
   ]
  },
  {
   "cell_type": "code",
   "execution_count": 15,
   "id": "02947ec9-3ff8-41ea-80f2-c89949971aeb",
   "metadata": {},
   "outputs": [
    {
     "name": "stdout",
     "output_type": "stream",
     "text": [
      "\n",
      "You are provided with a paragraph listing the types of EXIF metadata in the code block.\n",
      "----------\n",
      "{text}\n",
      "----------\n",
      "Question: Examine the paragraph and summarize which types of EXIF metadata the above paragraph relates to in the inclusion list (Make, Model, Software, GPS, Datetime) if EXIF metadata exists. \n",
      "Please only respond with the EXIF metadata name in this list (Make, Model, Software, GPS, Datetime). If you can't find it, answer \"No\".\n",
      "EXIF metadata name:\n",
      "\n"
     ]
    }
   ],
   "source": [
    "# Summary\n",
    "prompt_template = \"\"\"\n",
    "You are provided with a paragraph listing the types of EXIF metadata in the code block.\n",
    "----------\n",
    "{text}\n",
    "----------\n",
    "Question: Examine the paragraph and summarize which types of EXIF metadata the above paragraph relates to in the inclusion list (Make, Model, Software, GPS, Datetime) if EXIF metadata exists. \n",
    "Please only respond with the EXIF metadata name in this list (Make, Model, Software, GPS, Datetime). If you can't find it, answer \"No\".\n",
    "EXIF metadata name:\n",
    "\"\"\"\n",
    "print(prompt_template)"
   ]
  },
  {
   "cell_type": "code",
   "execution_count": 16,
   "id": "bd0ffdda-4490-49e9-bf89-ada847d719c2",
   "metadata": {},
   "outputs": [
    {
     "data": {
      "text/plain": [
       "PromptTemplate(input_variables=['text'], template='\\nYou are provided with a paragraph listing the types of EXIF metadata in the code block.\\n----------\\n{text}\\n----------\\nQuestion: Examine the paragraph and summarize which types of EXIF metadata the above paragraph relates to in the inclusion list (Make, Model, Software, GPS, Datetime) if EXIF metadata exists. \\nPlease only respond with the EXIF metadata name in this list (Make, Model, Software, GPS, Datetime). If you can\\'t find it, answer \"No\".\\nEXIF metadata name:\\n')"
      ]
     },
     "execution_count": 16,
     "metadata": {},
     "output_type": "execute_result"
    }
   ],
   "source": [
    "prompt = PromptTemplate.from_template(prompt_template)\n",
    "prompt"
   ]
  },
  {
   "cell_type": "code",
   "execution_count": 17,
   "id": "bd6a3e99-46a3-4367-ad54-9e7e32af77a6",
   "metadata": {},
   "outputs": [
    {
     "name": "stdout",
     "output_type": "stream",
     "text": [
      "\n",
      "You are provided with a paragraph listing the types of EXIF metadata in the code block.\n",
      "----------\n",
      "{text}\n",
      "----------\n",
      "Question: Examine the paragraph and summarize which types of EXIF metadata the above paragraph relates to in the inclusion list (Make, Model, Software, GPS, Datetime) if EXIF metadata exists. \n",
      "Please only respond with the EXIF metadata name in this list (Make, Model, Software, GPS, Datetime). If you can't find it, answer \"No\".\n",
      "EXIF metadata name:\n",
      "\n"
     ]
    }
   ],
   "source": [
    "prompt = PromptTemplate(template=prompt_template,input_variables=[\"text\"])\n",
    "stuff_chain = load_summarize_chain(llm,\n",
    "                                   chain_type=\"stuff\",\n",
    "                                   prompt=prompt,\n",
    "                                   verbose = True\n",
    "                                  )\n",
    "print(stuff_chain.llm_chain.prompt.template)"
   ]
  },
  {
   "cell_type": "code",
   "execution_count": 18,
   "id": "16e83cb2-099b-491c-9f86-5d5017584f74",
   "metadata": {
    "scrolled": true
   },
   "outputs": [
    {
     "name": "stdout",
     "output_type": "stream",
     "text": [
      "[Document(page_content='The EXIF metadata included in the code block are:\\n\\n- \"Make\" (tag 271, type 2)\\n- \"Model\" (tag 272, type 2)\\n- \"Software\" (tag 305, type 2)\\n- \"DateTime\" (tag 306, type 2)\\n- \"GPSInfoIFDPointer\" (tag 34853, type 4)\\n\\nThese tags are part of the EXIF metadata standard, which is used to store information related to the image such as the camera settings and other attributes when the photo was taken.', metadata={'source': 'code_purpose//code_purpose.txt'})]\n",
      "\n",
      "\n",
      "\u001b[1m> Entering new StuffDocumentsChain chain...\u001b[0m\n",
      "\n",
      "\n",
      "\u001b[1m> Entering new LLMChain chain...\u001b[0m\n",
      "Prompt after formatting:\n",
      "\u001b[32;1m\u001b[1;3m\n",
      "You are provided with a paragraph listing the types of EXIF metadata in the code block.\n",
      "----------\n",
      "The EXIF metadata included in the code block are:\n",
      "\n",
      "- \"Make\" (tag 271, type 2)\n",
      "- \"Model\" (tag 272, type 2)\n",
      "- \"Software\" (tag 305, type 2)\n",
      "- \"DateTime\" (tag 306, type 2)\n",
      "- \"GPSInfoIFDPointer\" (tag 34853, type 4)\n",
      "\n",
      "These tags are part of the EXIF metadata standard, which is used to store information related to the image such as the camera settings and other attributes when the photo was taken.\n",
      "----------\n",
      "Question: Examine the paragraph and summarize which types of EXIF metadata the above paragraph relates to in the inclusion list (Make, Model, Software, GPS, Datetime) if EXIF metadata exists. \n",
      "Please only respond with the EXIF metadata name in this list (Make, Model, Software, GPS, Datetime). If you can't find it, answer \"No\".\n",
      "EXIF metadata name:\n",
      "\u001b[0m\n",
      "\n",
      "\u001b[1m> Finished chain.\u001b[0m\n",
      "\n",
      "\u001b[1m> Finished chain.\u001b[0m\n"
     ]
    },
    {
     "data": {
      "text/plain": [
       "{'input_documents': [Document(page_content='The EXIF metadata included in the code block are:\\n\\n- \"Make\" (tag 271, type 2)\\n- \"Model\" (tag 272, type 2)\\n- \"Software\" (tag 305, type 2)\\n- \"DateTime\" (tag 306, type 2)\\n- \"GPSInfoIFDPointer\" (tag 34853, type 4)\\n\\nThese tags are part of the EXIF metadata standard, which is used to store information related to the image such as the camera settings and other attributes when the photo was taken.', metadata={'source': 'code_purpose//code_purpose.txt'})],\n",
       " 'output_text': 'Make, Model, Software, GPS, Datetime'}"
      ]
     },
     "execution_count": 18,
     "metadata": {},
     "output_type": "execute_result"
    }
   ],
   "source": [
    "loader = TextLoader(code_purpose_file)\n",
    "code_purpose_docs = loader.load()\n",
    "print(code_purpose_docs)\n",
    "output_summary = stuff_chain.invoke(code_purpose_docs)\n",
    "output_summary"
   ]
  },
  {
   "cell_type": "code",
   "execution_count": 19,
   "id": "6e8b2f6a-3fe8-4a60-ad1b-3ed64b7db66b",
   "metadata": {},
   "outputs": [],
   "source": [
    "answer = output_summary[\"output_text\"]"
   ]
  },
  {
   "cell_type": "code",
   "execution_count": 20,
   "id": "570a3f53-65a1-4361-a9aa-2ca75d2b25ff",
   "metadata": {},
   "outputs": [],
   "source": [
    "llm_answer_instance = LLMAnswer(app_name, answer, similar_apps)"
   ]
  },
  {
   "cell_type": "code",
   "execution_count": 21,
   "id": "7da8b5d9-2420-475c-a0df-eee308f42e13",
   "metadata": {},
   "outputs": [
    {
     "name": "stdout",
     "output_type": "stream",
     "text": [
      "LLMAnswer as JSON: {\n",
      "    \"app_name\": \"Gallery-Photo-Gallery-App-1\",\n",
      "    \"answer\": \"Make, Model, Software, GPS, Datetime\",\n",
      "    \"similar_app\": [\n",
      "        \"Gallery-Photo-Gallery-App-1\",\n",
      "        \"Photo-Compress-Image-Resize-3\",\n",
      "        \"File-Manager-File-Explorer-2\",\n",
      "        \"Gallery-Photo-Gallery-Album-1\"\n",
      "    ]\n",
      "}\n"
     ]
    }
   ],
   "source": [
    "print(\"LLMAnswer as JSON:\", llm_answer_instance.to_json())"
   ]
  },
  {
   "cell_type": "code",
   "execution_count": 22,
   "id": "f753d4c5-1ec0-49a6-9782-776d86f7ea49",
   "metadata": {},
   "outputs": [
    {
     "name": "stdout",
     "output_type": "stream",
     "text": [
      "File 'code_purpose//code_purpose.txt' deleted successfully.\n"
     ]
    }
   ],
   "source": [
    "delete_file(code_purpose_file)"
   ]
  }
 ],
 "metadata": {
  "kernelspec": {
   "display_name": "Python 3 (ipykernel)",
   "language": "python",
   "name": "python3"
  },
  "language_info": {
   "codemirror_mode": {
    "name": "ipython",
    "version": 3
   },
   "file_extension": ".py",
   "mimetype": "text/x-python",
   "name": "python",
   "nbconvert_exporter": "python",
   "pygments_lexer": "ipython3",
   "version": "3.10.14"
  }
 },
 "nbformat": 4,
 "nbformat_minor": 5
}

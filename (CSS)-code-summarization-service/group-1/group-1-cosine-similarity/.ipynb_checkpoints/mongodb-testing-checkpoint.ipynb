{
 "cells": [
  {
   "cell_type": "code",
   "execution_count": 14,
   "id": "761f4f62",
   "metadata": {},
   "outputs": [
    {
     "ename": "ImportError",
     "evalue": "cannot import name 'ElasticsearchException' from 'elasticsearch.exceptions' (C:\\Users\\ASUS\\anaconda3\\lib\\site-packages\\elasticsearch\\exceptions.py)",
     "output_type": "error",
     "traceback": [
      "\u001b[1;31m---------------------------------------------------------------------------\u001b[0m",
      "\u001b[1;31mImportError\u001b[0m                               Traceback (most recent call last)",
      "\u001b[1;32m~\\AppData\\Local\\Temp\\ipykernel_19648\\1719572096.py\u001b[0m in \u001b[0;36m<module>\u001b[1;34m\u001b[0m\n\u001b[0;32m      1\u001b[0m \u001b[1;32mfrom\u001b[0m \u001b[0melasticsearch\u001b[0m \u001b[1;32mimport\u001b[0m \u001b[0mElasticsearch\u001b[0m\u001b[1;33m\u001b[0m\u001b[1;33m\u001b[0m\u001b[0m\n\u001b[1;32m----> 2\u001b[1;33m \u001b[1;32mfrom\u001b[0m \u001b[0melasticsearch\u001b[0m\u001b[1;33m.\u001b[0m\u001b[0mexceptions\u001b[0m \u001b[1;32mimport\u001b[0m \u001b[0mElasticsearchException\u001b[0m\u001b[1;33m\u001b[0m\u001b[1;33m\u001b[0m\u001b[0m\n\u001b[0m\u001b[0;32m      3\u001b[0m \u001b[1;33m\u001b[0m\u001b[0m\n\u001b[0;32m      4\u001b[0m \u001b[1;31m# Elasticsearch connection settings\u001b[0m\u001b[1;33m\u001b[0m\u001b[1;33m\u001b[0m\u001b[0m\n\u001b[0;32m      5\u001b[0m \u001b[0mes_host\u001b[0m \u001b[1;33m=\u001b[0m \u001b[1;34m'192.168.0.111'\u001b[0m\u001b[1;33m\u001b[0m\u001b[1;33m\u001b[0m\u001b[0m\n",
      "\u001b[1;31mImportError\u001b[0m: cannot import name 'ElasticsearchException' from 'elasticsearch.exceptions' (C:\\Users\\ASUS\\anaconda3\\lib\\site-packages\\elasticsearch\\exceptions.py)"
     ]
    }
   ],
   "source": [
    "from elasticsearch import Elasticsearch\n",
    "from elasticsearch.exceptions import ConnectionError\n",
    "\n",
    "# Elasticsearch connection settings\n",
    "es_host = '192.168.0.111'\n",
    "es_port = 9200\n",
    "es_scheme = 'http'  # Specify the scheme, either 'http' or 'https'\n",
    "\n",
    "# Initialize Elasticsearch client\n",
    "es = Elasticsearch([{'host': es_host, 'port': es_port, 'scheme': es_scheme}])\n",
    "\n",
    "try:\n",
    "    # Check if Elasticsearch is running and get cluster info\n",
    "    if es.ping():\n",
    "        print(\"Connected to Elasticsearch.\")\n",
    "        print(\"Cluster info:\", es.info())\n",
    "    else:\n",
    "        print(\"Could not connect to Elasticsearch.\")\n",
    "except ConnectionError as e:\n",
    "    print(\"Error connecting to Elasticsearch:\", e)\n",
    "\n"
   ]
  }
 ],
 "metadata": {
  "kernelspec": {
   "display_name": "Python 3 (ipykernel)",
   "language": "python",
   "name": "python3"
  },
  "language_info": {
   "codemirror_mode": {
    "name": "ipython",
    "version": 3
   },
   "file_extension": ".py",
   "mimetype": "text/x-python",
   "name": "python",
   "nbconvert_exporter": "python",
   "pygments_lexer": "ipython3",
   "version": "3.9.13"
  }
 },
 "nbformat": 4,
 "nbformat_minor": 5
}

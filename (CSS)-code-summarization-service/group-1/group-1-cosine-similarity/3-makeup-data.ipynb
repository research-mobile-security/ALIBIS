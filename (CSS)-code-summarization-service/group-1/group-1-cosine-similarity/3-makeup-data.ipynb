{
 "cells": [
  {
   "cell_type": "code",
   "execution_count": 1,
   "id": "8aefa51c",
   "metadata": {},
   "outputs": [
    {
     "name": "stdout",
     "output_type": "stream",
     "text": [
      "Fixed metadata_leak values and saved to paper_report_intent_group2_fixed.csv\n"
     ]
    }
   ],
   "source": [
    "import pandas as pd\n",
    "\n",
    "def fix_metadata_leak(csv_file):\n",
    "    # Read CSV file into DataFrame\n",
    "    df = pd.read_csv(csv_file)\n",
    "    \n",
    "    # Function to fix metadata_leak values\n",
    "    def fix_leak(leak):\n",
    "        if \"gps_latitude\" in leak or \"gps_longitude\" in leak or \"gps_altitude\" in leak:\n",
    "            return \"Leak gps\"\n",
    "        elif \"smart phone model\" in leak:\n",
    "            return \"Leak smart phone model\"\n",
    "        elif \"smart phone brand\" in leak:\n",
    "            return \"Leak smart phone brand\"\n",
    "        elif \"smart phone software\" in leak:\n",
    "            return \"Leak smart phone software\"\n",
    "        else:\n",
    "            return leak\n",
    "    \n",
    "    # Read metadata_leak column as string and convert to list\n",
    "    df['metadata_leak_org'] = df['metadata_leak'].apply(lambda x: x.split('\\n'))\n",
    "    \n",
    "    # Apply the fix to each value in the list\n",
    "    df['metadata_leak_org'] = df['metadata_leak_org'].apply(lambda x: [fix_leak(val) for val in x])\n",
    "    \n",
    "    # Remove duplicate values from each list\n",
    "    df['metadata_leak_org'] = df['metadata_leak_org'].apply(lambda x: list(set(x)))\n",
    "    \n",
    "    # Convert list back to string\n",
    "    df['metadata_leak_org'] = df['metadata_leak_org'].apply(lambda x: '\\n'.join(x))\n",
    "    \n",
    "    # Export the DataFrame to a new CSV file\n",
    "    new_csv_file = csv_file.replace('.csv', '_fixed.csv')\n",
    "    df.to_csv(new_csv_file, index=False)\n",
    "    \n",
    "    print(f\"Fixed metadata_leak values and saved to {new_csv_file}\")\n",
    "\n",
    "# Example usage\n",
    "fix_metadata_leak(\"paper_report_intent_group2.csv\")"
   ]
  }
 ],
 "metadata": {
  "kernelspec": {
   "display_name": "Python 3 (ipykernel)",
   "language": "python",
   "name": "python3"
  },
  "language_info": {
   "codemirror_mode": {
    "name": "ipython",
    "version": 3
   },
   "file_extension": ".py",
   "mimetype": "text/x-python",
   "name": "python",
   "nbconvert_exporter": "python",
   "pygments_lexer": "ipython3",
   "version": "3.9.13"
  }
 },
 "nbformat": 4,
 "nbformat_minor": 5
}

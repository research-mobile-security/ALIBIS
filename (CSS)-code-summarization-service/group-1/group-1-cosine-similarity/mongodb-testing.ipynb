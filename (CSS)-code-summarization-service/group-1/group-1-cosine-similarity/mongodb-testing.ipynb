{
 "cells": [
  {
   "cell_type": "code",
   "execution_count": 15,
   "id": "736e4e1a",
   "metadata": {},
   "outputs": [
    {
     "name": "stdout",
     "output_type": "stream",
     "text": [
      "Could not connect to Elasticsearch.\n"
     ]
    }
   ],
   "source": [
    "from elasticsearch import Elasticsearch\n",
    "from elasticsearch.exceptions import ConnectionError\n",
    "\n",
    "# Elasticsearch connection settings\n",
    "es_host = '192.168.0.111'\n",
    "es_port = 9200\n",
    "es_scheme = 'http'  # Specify the scheme, either 'http' or 'https'\n",
    "\n",
    "# Initialize Elasticsearch client\n",
    "es = Elasticsearch([{'host': es_host, 'port': es_port, 'scheme': es_scheme}])\n",
    "\n",
    "try:\n",
    "    # Check if Elasticsearch is running and get cluster info\n",
    "    if es.ping():\n",
    "        print(\"Connected to Elasticsearch.\")\n",
    "        print(\"Cluster info:\", es.info())\n",
    "    else:\n",
    "        print(\"Could not connect to Elasticsearch.\")\n",
    "except ConnectionError as e:\n",
    "    print(\"Error connecting to Elasticsearch:\", e)\n",
    "\n"
   ]
  }
 ],
 "metadata": {
  "kernelspec": {
   "display_name": "Python 3 (ipykernel)",
   "language": "python",
   "name": "python3"
  },
  "language_info": {
   "codemirror_mode": {
    "name": "ipython",
    "version": 3
   },
   "file_extension": ".py",
   "mimetype": "text/x-python",
   "name": "python",
   "nbconvert_exporter": "python",
   "pygments_lexer": "ipython3",
   "version": "3.9.13"
  }
 },
 "nbformat": 4,
 "nbformat_minor": 5
}
